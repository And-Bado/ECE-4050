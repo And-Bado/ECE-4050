{
  "cells": [
    {
      "cell_type": "markdown",
      "metadata": {
        "id": "view-in-github",
        "colab_type": "text"
      },
      "source": [
        "<a href=\"https://colab.research.google.com/github/And-Bado/ECE-4050/blob/main/Project_1.ipynb\" target=\"_parent\"><img src=\"https://colab.research.google.com/assets/colab-badge.svg\" alt=\"Open In Colab\"/></a>"
      ]
    },
    {
      "cell_type": "markdown",
      "source": [
        "[What is EEG and time-frequency analysis?](https://youtu.be/FIqvTUOGFOE?si=5hFMbAp3RpghlKoM)\n",
        "\n"
      ],
      "metadata": {
        "id": "dj9-a-fZfaic"
      }
    },
    {
      "cell_type": "markdown",
      "source": [
        "[How to make predictions based on EEG?](https://youtu.be/SKIaW5YvF6Y?si=R5AlNCTIsh3AjNkn)"
      ],
      "metadata": {
        "id": "LeqUPLGThph7"
      }
    },
    {
      "cell_type": "code",
      "execution_count": 44,
      "metadata": {
        "id": "aXUs20D0tXIe"
      },
      "outputs": [],
      "source": [
        "# This Python 3 environment comes with many helpful analytics libraries installed\n",
        "# It is defined by the kaggle/python docker image: https://github.com/kaggle/docker-python\n",
        "# For example, here's several helpful packages to load in\n",
        "\n",
        "import scipy\n",
        "import numpy as np # linear algebra\n",
        "import pandas as pd # data processing, CSV file I/O (e.g. pd.read_csv)\n",
        "import matplotlib.pyplot as plt\n",
        "import tensorflow as tf\n",
        "from tensorflow.keras.models import Sequential, Model\n",
        "from tensorflow.keras.layers import Dense, Input\n",
        "from tensorflow.keras.layers import Flatten\n",
        "from tensorflow.keras.layers import Dropout\n",
        "from tensorflow.keras.layers import Conv1D, Conv2D\n",
        "from tensorflow.keras.layers import MaxPooling1D, MaxPooling2D\n",
        "from tensorflow.keras.utils import to_categorical\n",
        "from sklearn.model_selection import train_test_split\n",
        "from keras.callbacks import EarlyStopping\n",
        "import scipy.signal as ss\n",
        "\n",
        "# Input data files are available in the \"../input/\" directory.\n",
        "# For example, running this (by clicking run or pressing Shift+Enter) will list all files under the input directory\n",
        "\n",
        "import os\n",
        "for dirname, _, filenames in os.walk('/kaggle/input'):\n",
        "    for filename in filenames:\n",
        "        print(os.path.join(dirname, filename))\n",
        "\n",
        "# Any results you write to the current directory are saved as output."
      ]
    },
    {
      "cell_type": "markdown",
      "metadata": {
        "id": "BVWJz7_GtXIm"
      },
      "source": [
        "# Welcome\n",
        "This notebook will walk you through how to analyse brain wave data. This data was collected in the Neural Engineering Laboratory at the University of Missouri - Columbia."
      ]
    },
    {
      "cell_type": "code",
      "source": [
        "# clone github repo with the data\n",
        "!git clone https://github.com/davidfague/4540_NM_ML.git"
      ],
      "metadata": {
        "id": "FoqM6g_NavRU",
        "outputId": "223edbc1-a958-4e02-c61a-672cb1c96468",
        "colab": {
          "base_uri": "https://localhost:8080/"
        }
      },
      "execution_count": 45,
      "outputs": [
        {
          "output_type": "stream",
          "name": "stdout",
          "text": [
            "fatal: destination path '4540_NM_ML' already exists and is not an empty directory.\n"
          ]
        }
      ]
    },
    {
      "cell_type": "code",
      "source": [
        "# read the data into pandas dataframe\n",
        "df = pd.read_csv('4540_NM_ML/Project 1/OpenBCI-RAW-2020-03-10_08-53-44.txt',skiprows=6,header=None)"
      ],
      "metadata": {
        "id": "L115hIJMbi1F"
      },
      "execution_count": 46,
      "outputs": []
    },
    {
      "cell_type": "code",
      "execution_count": 47,
      "metadata": {
        "colab": {
          "base_uri": "https://localhost:8080/",
          "height": 206
        },
        "id": "0eHKReMgtXI0",
        "outputId": "3e54d5b9-54f2-4ec2-b6e0-a7ebc404b69c"
      },
      "outputs": [
        {
          "output_type": "execute_result",
          "data": {
            "text/plain": [
              "   0      1      2      3      4      5      6      7              8  \\\n",
              "0  0 -76.20   1.38 -34.35 -51.09  0.912  0.112 -0.464   08:54:30.263   \n",
              "1  1 -36.12  29.01  76.34  48.51  0.912  0.112 -0.464   08:54:30.263   \n",
              "2  2 -43.59  31.42  58.11  30.55  0.912  0.112 -0.464   08:54:30.263   \n",
              "3  3 -77.29   2.68 -19.45 -49.45  0.912  0.112 -0.464   08:54:30.274   \n",
              "4  4 -57.05  17.48  52.08  23.03  0.912  0.112 -0.464   08:54:30.274   \n",
              "\n",
              "              9  \n",
              "0  1.583848e+12  \n",
              "1  1.583848e+12  \n",
              "2  1.583848e+12  \n",
              "3  1.583848e+12  \n",
              "4  1.583848e+12  "
            ],
            "text/html": [
              "\n",
              "  <div id=\"df-b4563b97-d0a2-4f75-b4d8-9d98aea1e9bc\" class=\"colab-df-container\">\n",
              "    <div>\n",
              "<style scoped>\n",
              "    .dataframe tbody tr th:only-of-type {\n",
              "        vertical-align: middle;\n",
              "    }\n",
              "\n",
              "    .dataframe tbody tr th {\n",
              "        vertical-align: top;\n",
              "    }\n",
              "\n",
              "    .dataframe thead th {\n",
              "        text-align: right;\n",
              "    }\n",
              "</style>\n",
              "<table border=\"1\" class=\"dataframe\">\n",
              "  <thead>\n",
              "    <tr style=\"text-align: right;\">\n",
              "      <th></th>\n",
              "      <th>0</th>\n",
              "      <th>1</th>\n",
              "      <th>2</th>\n",
              "      <th>3</th>\n",
              "      <th>4</th>\n",
              "      <th>5</th>\n",
              "      <th>6</th>\n",
              "      <th>7</th>\n",
              "      <th>8</th>\n",
              "      <th>9</th>\n",
              "    </tr>\n",
              "  </thead>\n",
              "  <tbody>\n",
              "    <tr>\n",
              "      <th>0</th>\n",
              "      <td>0</td>\n",
              "      <td>-76.20</td>\n",
              "      <td>1.38</td>\n",
              "      <td>-34.35</td>\n",
              "      <td>-51.09</td>\n",
              "      <td>0.912</td>\n",
              "      <td>0.112</td>\n",
              "      <td>-0.464</td>\n",
              "      <td>08:54:30.263</td>\n",
              "      <td>1.583848e+12</td>\n",
              "    </tr>\n",
              "    <tr>\n",
              "      <th>1</th>\n",
              "      <td>1</td>\n",
              "      <td>-36.12</td>\n",
              "      <td>29.01</td>\n",
              "      <td>76.34</td>\n",
              "      <td>48.51</td>\n",
              "      <td>0.912</td>\n",
              "      <td>0.112</td>\n",
              "      <td>-0.464</td>\n",
              "      <td>08:54:30.263</td>\n",
              "      <td>1.583848e+12</td>\n",
              "    </tr>\n",
              "    <tr>\n",
              "      <th>2</th>\n",
              "      <td>2</td>\n",
              "      <td>-43.59</td>\n",
              "      <td>31.42</td>\n",
              "      <td>58.11</td>\n",
              "      <td>30.55</td>\n",
              "      <td>0.912</td>\n",
              "      <td>0.112</td>\n",
              "      <td>-0.464</td>\n",
              "      <td>08:54:30.263</td>\n",
              "      <td>1.583848e+12</td>\n",
              "    </tr>\n",
              "    <tr>\n",
              "      <th>3</th>\n",
              "      <td>3</td>\n",
              "      <td>-77.29</td>\n",
              "      <td>2.68</td>\n",
              "      <td>-19.45</td>\n",
              "      <td>-49.45</td>\n",
              "      <td>0.912</td>\n",
              "      <td>0.112</td>\n",
              "      <td>-0.464</td>\n",
              "      <td>08:54:30.274</td>\n",
              "      <td>1.583848e+12</td>\n",
              "    </tr>\n",
              "    <tr>\n",
              "      <th>4</th>\n",
              "      <td>4</td>\n",
              "      <td>-57.05</td>\n",
              "      <td>17.48</td>\n",
              "      <td>52.08</td>\n",
              "      <td>23.03</td>\n",
              "      <td>0.912</td>\n",
              "      <td>0.112</td>\n",
              "      <td>-0.464</td>\n",
              "      <td>08:54:30.274</td>\n",
              "      <td>1.583848e+12</td>\n",
              "    </tr>\n",
              "  </tbody>\n",
              "</table>\n",
              "</div>\n",
              "    <div class=\"colab-df-buttons\">\n",
              "\n",
              "  <div class=\"colab-df-container\">\n",
              "    <button class=\"colab-df-convert\" onclick=\"convertToInteractive('df-b4563b97-d0a2-4f75-b4d8-9d98aea1e9bc')\"\n",
              "            title=\"Convert this dataframe to an interactive table.\"\n",
              "            style=\"display:none;\">\n",
              "\n",
              "  <svg xmlns=\"http://www.w3.org/2000/svg\" height=\"24px\" viewBox=\"0 -960 960 960\">\n",
              "    <path d=\"M120-120v-720h720v720H120Zm60-500h600v-160H180v160Zm220 220h160v-160H400v160Zm0 220h160v-160H400v160ZM180-400h160v-160H180v160Zm440 0h160v-160H620v160ZM180-180h160v-160H180v160Zm440 0h160v-160H620v160Z\"/>\n",
              "  </svg>\n",
              "    </button>\n",
              "\n",
              "  <style>\n",
              "    .colab-df-container {\n",
              "      display:flex;\n",
              "      gap: 12px;\n",
              "    }\n",
              "\n",
              "    .colab-df-convert {\n",
              "      background-color: #E8F0FE;\n",
              "      border: none;\n",
              "      border-radius: 50%;\n",
              "      cursor: pointer;\n",
              "      display: none;\n",
              "      fill: #1967D2;\n",
              "      height: 32px;\n",
              "      padding: 0 0 0 0;\n",
              "      width: 32px;\n",
              "    }\n",
              "\n",
              "    .colab-df-convert:hover {\n",
              "      background-color: #E2EBFA;\n",
              "      box-shadow: 0px 1px 2px rgba(60, 64, 67, 0.3), 0px 1px 3px 1px rgba(60, 64, 67, 0.15);\n",
              "      fill: #174EA6;\n",
              "    }\n",
              "\n",
              "    .colab-df-buttons div {\n",
              "      margin-bottom: 4px;\n",
              "    }\n",
              "\n",
              "    [theme=dark] .colab-df-convert {\n",
              "      background-color: #3B4455;\n",
              "      fill: #D2E3FC;\n",
              "    }\n",
              "\n",
              "    [theme=dark] .colab-df-convert:hover {\n",
              "      background-color: #434B5C;\n",
              "      box-shadow: 0px 1px 3px 1px rgba(0, 0, 0, 0.15);\n",
              "      filter: drop-shadow(0px 1px 2px rgba(0, 0, 0, 0.3));\n",
              "      fill: #FFFFFF;\n",
              "    }\n",
              "  </style>\n",
              "\n",
              "    <script>\n",
              "      const buttonEl =\n",
              "        document.querySelector('#df-b4563b97-d0a2-4f75-b4d8-9d98aea1e9bc button.colab-df-convert');\n",
              "      buttonEl.style.display =\n",
              "        google.colab.kernel.accessAllowed ? 'block' : 'none';\n",
              "\n",
              "      async function convertToInteractive(key) {\n",
              "        const element = document.querySelector('#df-b4563b97-d0a2-4f75-b4d8-9d98aea1e9bc');\n",
              "        const dataTable =\n",
              "          await google.colab.kernel.invokeFunction('convertToInteractive',\n",
              "                                                    [key], {});\n",
              "        if (!dataTable) return;\n",
              "\n",
              "        const docLinkHtml = 'Like what you see? Visit the ' +\n",
              "          '<a target=\"_blank\" href=https://colab.research.google.com/notebooks/data_table.ipynb>data table notebook</a>'\n",
              "          + ' to learn more about interactive tables.';\n",
              "        element.innerHTML = '';\n",
              "        dataTable['output_type'] = 'display_data';\n",
              "        await google.colab.output.renderOutput(dataTable, element);\n",
              "        const docLink = document.createElement('div');\n",
              "        docLink.innerHTML = docLinkHtml;\n",
              "        element.appendChild(docLink);\n",
              "      }\n",
              "    </script>\n",
              "  </div>\n",
              "\n",
              "\n",
              "    <div id=\"df-98f067b7-c8cf-4883-8e81-459836169a5f\">\n",
              "      <button class=\"colab-df-quickchart\" onclick=\"quickchart('df-98f067b7-c8cf-4883-8e81-459836169a5f')\"\n",
              "                title=\"Suggest charts\"\n",
              "                style=\"display:none;\">\n",
              "\n",
              "<svg xmlns=\"http://www.w3.org/2000/svg\" height=\"24px\"viewBox=\"0 0 24 24\"\n",
              "     width=\"24px\">\n",
              "    <g>\n",
              "        <path d=\"M19 3H5c-1.1 0-2 .9-2 2v14c0 1.1.9 2 2 2h14c1.1 0 2-.9 2-2V5c0-1.1-.9-2-2-2zM9 17H7v-7h2v7zm4 0h-2V7h2v10zm4 0h-2v-4h2v4z\"/>\n",
              "    </g>\n",
              "</svg>\n",
              "      </button>\n",
              "\n",
              "<style>\n",
              "  .colab-df-quickchart {\n",
              "      --bg-color: #E8F0FE;\n",
              "      --fill-color: #1967D2;\n",
              "      --hover-bg-color: #E2EBFA;\n",
              "      --hover-fill-color: #174EA6;\n",
              "      --disabled-fill-color: #AAA;\n",
              "      --disabled-bg-color: #DDD;\n",
              "  }\n",
              "\n",
              "  [theme=dark] .colab-df-quickchart {\n",
              "      --bg-color: #3B4455;\n",
              "      --fill-color: #D2E3FC;\n",
              "      --hover-bg-color: #434B5C;\n",
              "      --hover-fill-color: #FFFFFF;\n",
              "      --disabled-bg-color: #3B4455;\n",
              "      --disabled-fill-color: #666;\n",
              "  }\n",
              "\n",
              "  .colab-df-quickchart {\n",
              "    background-color: var(--bg-color);\n",
              "    border: none;\n",
              "    border-radius: 50%;\n",
              "    cursor: pointer;\n",
              "    display: none;\n",
              "    fill: var(--fill-color);\n",
              "    height: 32px;\n",
              "    padding: 0;\n",
              "    width: 32px;\n",
              "  }\n",
              "\n",
              "  .colab-df-quickchart:hover {\n",
              "    background-color: var(--hover-bg-color);\n",
              "    box-shadow: 0 1px 2px rgba(60, 64, 67, 0.3), 0 1px 3px 1px rgba(60, 64, 67, 0.15);\n",
              "    fill: var(--button-hover-fill-color);\n",
              "  }\n",
              "\n",
              "  .colab-df-quickchart-complete:disabled,\n",
              "  .colab-df-quickchart-complete:disabled:hover {\n",
              "    background-color: var(--disabled-bg-color);\n",
              "    fill: var(--disabled-fill-color);\n",
              "    box-shadow: none;\n",
              "  }\n",
              "\n",
              "  .colab-df-spinner {\n",
              "    border: 2px solid var(--fill-color);\n",
              "    border-color: transparent;\n",
              "    border-bottom-color: var(--fill-color);\n",
              "    animation:\n",
              "      spin 1s steps(1) infinite;\n",
              "  }\n",
              "\n",
              "  @keyframes spin {\n",
              "    0% {\n",
              "      border-color: transparent;\n",
              "      border-bottom-color: var(--fill-color);\n",
              "      border-left-color: var(--fill-color);\n",
              "    }\n",
              "    20% {\n",
              "      border-color: transparent;\n",
              "      border-left-color: var(--fill-color);\n",
              "      border-top-color: var(--fill-color);\n",
              "    }\n",
              "    30% {\n",
              "      border-color: transparent;\n",
              "      border-left-color: var(--fill-color);\n",
              "      border-top-color: var(--fill-color);\n",
              "      border-right-color: var(--fill-color);\n",
              "    }\n",
              "    40% {\n",
              "      border-color: transparent;\n",
              "      border-right-color: var(--fill-color);\n",
              "      border-top-color: var(--fill-color);\n",
              "    }\n",
              "    60% {\n",
              "      border-color: transparent;\n",
              "      border-right-color: var(--fill-color);\n",
              "    }\n",
              "    80% {\n",
              "      border-color: transparent;\n",
              "      border-right-color: var(--fill-color);\n",
              "      border-bottom-color: var(--fill-color);\n",
              "    }\n",
              "    90% {\n",
              "      border-color: transparent;\n",
              "      border-bottom-color: var(--fill-color);\n",
              "    }\n",
              "  }\n",
              "</style>\n",
              "\n",
              "      <script>\n",
              "        async function quickchart(key) {\n",
              "          const quickchartButtonEl =\n",
              "            document.querySelector('#' + key + ' button');\n",
              "          quickchartButtonEl.disabled = true;  // To prevent multiple clicks.\n",
              "          quickchartButtonEl.classList.add('colab-df-spinner');\n",
              "          try {\n",
              "            const charts = await google.colab.kernel.invokeFunction(\n",
              "                'suggestCharts', [key], {});\n",
              "          } catch (error) {\n",
              "            console.error('Error during call to suggestCharts:', error);\n",
              "          }\n",
              "          quickchartButtonEl.classList.remove('colab-df-spinner');\n",
              "          quickchartButtonEl.classList.add('colab-df-quickchart-complete');\n",
              "        }\n",
              "        (() => {\n",
              "          let quickchartButtonEl =\n",
              "            document.querySelector('#df-98f067b7-c8cf-4883-8e81-459836169a5f button');\n",
              "          quickchartButtonEl.style.display =\n",
              "            google.colab.kernel.accessAllowed ? 'block' : 'none';\n",
              "        })();\n",
              "      </script>\n",
              "    </div>\n",
              "\n",
              "    </div>\n",
              "  </div>\n"
            ],
            "application/vnd.google.colaboratory.intrinsic+json": {
              "type": "dataframe",
              "variable_name": "df"
            }
          },
          "metadata": {},
          "execution_count": 47
        }
      ],
      "source": [
        "df.head()"
      ]
    },
    {
      "cell_type": "code",
      "execution_count": 48,
      "metadata": {
        "id": "kbXt_2WNtXI2"
      },
      "outputs": [],
      "source": [
        "df.columns=['index','channel1','channel2','channel3','channel4','acc1','acc2','acc3','time_std','timestamp']\n",
        "df.drop(['index'],axis=1,inplace=True)"
      ]
    },
    {
      "cell_type": "code",
      "execution_count": 49,
      "metadata": {
        "colab": {
          "base_uri": "https://localhost:8080/",
          "height": 206
        },
        "id": "xu2s6zlutXI3",
        "outputId": "3acda3fa-f05c-459c-f5b9-4b288cf4f639"
      },
      "outputs": [
        {
          "output_type": "execute_result",
          "data": {
            "text/plain": [
              "   channel1  channel2  channel3  channel4   acc1   acc2   acc3       time_std  \\\n",
              "0    -76.20      1.38    -34.35    -51.09  0.912  0.112 -0.464   08:54:30.263   \n",
              "1    -36.12     29.01     76.34     48.51  0.912  0.112 -0.464   08:54:30.263   \n",
              "2    -43.59     31.42     58.11     30.55  0.912  0.112 -0.464   08:54:30.263   \n",
              "3    -77.29      2.68    -19.45    -49.45  0.912  0.112 -0.464   08:54:30.274   \n",
              "4    -57.05     17.48     52.08     23.03  0.912  0.112 -0.464   08:54:30.274   \n",
              "\n",
              "      timestamp  \n",
              "0  1.583848e+12  \n",
              "1  1.583848e+12  \n",
              "2  1.583848e+12  \n",
              "3  1.583848e+12  \n",
              "4  1.583848e+12  "
            ],
            "text/html": [
              "\n",
              "  <div id=\"df-2770430d-a783-4b79-81a8-f61e7e872cde\" class=\"colab-df-container\">\n",
              "    <div>\n",
              "<style scoped>\n",
              "    .dataframe tbody tr th:only-of-type {\n",
              "        vertical-align: middle;\n",
              "    }\n",
              "\n",
              "    .dataframe tbody tr th {\n",
              "        vertical-align: top;\n",
              "    }\n",
              "\n",
              "    .dataframe thead th {\n",
              "        text-align: right;\n",
              "    }\n",
              "</style>\n",
              "<table border=\"1\" class=\"dataframe\">\n",
              "  <thead>\n",
              "    <tr style=\"text-align: right;\">\n",
              "      <th></th>\n",
              "      <th>channel1</th>\n",
              "      <th>channel2</th>\n",
              "      <th>channel3</th>\n",
              "      <th>channel4</th>\n",
              "      <th>acc1</th>\n",
              "      <th>acc2</th>\n",
              "      <th>acc3</th>\n",
              "      <th>time_std</th>\n",
              "      <th>timestamp</th>\n",
              "    </tr>\n",
              "  </thead>\n",
              "  <tbody>\n",
              "    <tr>\n",
              "      <th>0</th>\n",
              "      <td>-76.20</td>\n",
              "      <td>1.38</td>\n",
              "      <td>-34.35</td>\n",
              "      <td>-51.09</td>\n",
              "      <td>0.912</td>\n",
              "      <td>0.112</td>\n",
              "      <td>-0.464</td>\n",
              "      <td>08:54:30.263</td>\n",
              "      <td>1.583848e+12</td>\n",
              "    </tr>\n",
              "    <tr>\n",
              "      <th>1</th>\n",
              "      <td>-36.12</td>\n",
              "      <td>29.01</td>\n",
              "      <td>76.34</td>\n",
              "      <td>48.51</td>\n",
              "      <td>0.912</td>\n",
              "      <td>0.112</td>\n",
              "      <td>-0.464</td>\n",
              "      <td>08:54:30.263</td>\n",
              "      <td>1.583848e+12</td>\n",
              "    </tr>\n",
              "    <tr>\n",
              "      <th>2</th>\n",
              "      <td>-43.59</td>\n",
              "      <td>31.42</td>\n",
              "      <td>58.11</td>\n",
              "      <td>30.55</td>\n",
              "      <td>0.912</td>\n",
              "      <td>0.112</td>\n",
              "      <td>-0.464</td>\n",
              "      <td>08:54:30.263</td>\n",
              "      <td>1.583848e+12</td>\n",
              "    </tr>\n",
              "    <tr>\n",
              "      <th>3</th>\n",
              "      <td>-77.29</td>\n",
              "      <td>2.68</td>\n",
              "      <td>-19.45</td>\n",
              "      <td>-49.45</td>\n",
              "      <td>0.912</td>\n",
              "      <td>0.112</td>\n",
              "      <td>-0.464</td>\n",
              "      <td>08:54:30.274</td>\n",
              "      <td>1.583848e+12</td>\n",
              "    </tr>\n",
              "    <tr>\n",
              "      <th>4</th>\n",
              "      <td>-57.05</td>\n",
              "      <td>17.48</td>\n",
              "      <td>52.08</td>\n",
              "      <td>23.03</td>\n",
              "      <td>0.912</td>\n",
              "      <td>0.112</td>\n",
              "      <td>-0.464</td>\n",
              "      <td>08:54:30.274</td>\n",
              "      <td>1.583848e+12</td>\n",
              "    </tr>\n",
              "  </tbody>\n",
              "</table>\n",
              "</div>\n",
              "    <div class=\"colab-df-buttons\">\n",
              "\n",
              "  <div class=\"colab-df-container\">\n",
              "    <button class=\"colab-df-convert\" onclick=\"convertToInteractive('df-2770430d-a783-4b79-81a8-f61e7e872cde')\"\n",
              "            title=\"Convert this dataframe to an interactive table.\"\n",
              "            style=\"display:none;\">\n",
              "\n",
              "  <svg xmlns=\"http://www.w3.org/2000/svg\" height=\"24px\" viewBox=\"0 -960 960 960\">\n",
              "    <path d=\"M120-120v-720h720v720H120Zm60-500h600v-160H180v160Zm220 220h160v-160H400v160Zm0 220h160v-160H400v160ZM180-400h160v-160H180v160Zm440 0h160v-160H620v160ZM180-180h160v-160H180v160Zm440 0h160v-160H620v160Z\"/>\n",
              "  </svg>\n",
              "    </button>\n",
              "\n",
              "  <style>\n",
              "    .colab-df-container {\n",
              "      display:flex;\n",
              "      gap: 12px;\n",
              "    }\n",
              "\n",
              "    .colab-df-convert {\n",
              "      background-color: #E8F0FE;\n",
              "      border: none;\n",
              "      border-radius: 50%;\n",
              "      cursor: pointer;\n",
              "      display: none;\n",
              "      fill: #1967D2;\n",
              "      height: 32px;\n",
              "      padding: 0 0 0 0;\n",
              "      width: 32px;\n",
              "    }\n",
              "\n",
              "    .colab-df-convert:hover {\n",
              "      background-color: #E2EBFA;\n",
              "      box-shadow: 0px 1px 2px rgba(60, 64, 67, 0.3), 0px 1px 3px 1px rgba(60, 64, 67, 0.15);\n",
              "      fill: #174EA6;\n",
              "    }\n",
              "\n",
              "    .colab-df-buttons div {\n",
              "      margin-bottom: 4px;\n",
              "    }\n",
              "\n",
              "    [theme=dark] .colab-df-convert {\n",
              "      background-color: #3B4455;\n",
              "      fill: #D2E3FC;\n",
              "    }\n",
              "\n",
              "    [theme=dark] .colab-df-convert:hover {\n",
              "      background-color: #434B5C;\n",
              "      box-shadow: 0px 1px 3px 1px rgba(0, 0, 0, 0.15);\n",
              "      filter: drop-shadow(0px 1px 2px rgba(0, 0, 0, 0.3));\n",
              "      fill: #FFFFFF;\n",
              "    }\n",
              "  </style>\n",
              "\n",
              "    <script>\n",
              "      const buttonEl =\n",
              "        document.querySelector('#df-2770430d-a783-4b79-81a8-f61e7e872cde button.colab-df-convert');\n",
              "      buttonEl.style.display =\n",
              "        google.colab.kernel.accessAllowed ? 'block' : 'none';\n",
              "\n",
              "      async function convertToInteractive(key) {\n",
              "        const element = document.querySelector('#df-2770430d-a783-4b79-81a8-f61e7e872cde');\n",
              "        const dataTable =\n",
              "          await google.colab.kernel.invokeFunction('convertToInteractive',\n",
              "                                                    [key], {});\n",
              "        if (!dataTable) return;\n",
              "\n",
              "        const docLinkHtml = 'Like what you see? Visit the ' +\n",
              "          '<a target=\"_blank\" href=https://colab.research.google.com/notebooks/data_table.ipynb>data table notebook</a>'\n",
              "          + ' to learn more about interactive tables.';\n",
              "        element.innerHTML = '';\n",
              "        dataTable['output_type'] = 'display_data';\n",
              "        await google.colab.output.renderOutput(dataTable, element);\n",
              "        const docLink = document.createElement('div');\n",
              "        docLink.innerHTML = docLinkHtml;\n",
              "        element.appendChild(docLink);\n",
              "      }\n",
              "    </script>\n",
              "  </div>\n",
              "\n",
              "\n",
              "    <div id=\"df-db3ffdbb-be26-441e-b30b-a1b76685d8a8\">\n",
              "      <button class=\"colab-df-quickchart\" onclick=\"quickchart('df-db3ffdbb-be26-441e-b30b-a1b76685d8a8')\"\n",
              "                title=\"Suggest charts\"\n",
              "                style=\"display:none;\">\n",
              "\n",
              "<svg xmlns=\"http://www.w3.org/2000/svg\" height=\"24px\"viewBox=\"0 0 24 24\"\n",
              "     width=\"24px\">\n",
              "    <g>\n",
              "        <path d=\"M19 3H5c-1.1 0-2 .9-2 2v14c0 1.1.9 2 2 2h14c1.1 0 2-.9 2-2V5c0-1.1-.9-2-2-2zM9 17H7v-7h2v7zm4 0h-2V7h2v10zm4 0h-2v-4h2v4z\"/>\n",
              "    </g>\n",
              "</svg>\n",
              "      </button>\n",
              "\n",
              "<style>\n",
              "  .colab-df-quickchart {\n",
              "      --bg-color: #E8F0FE;\n",
              "      --fill-color: #1967D2;\n",
              "      --hover-bg-color: #E2EBFA;\n",
              "      --hover-fill-color: #174EA6;\n",
              "      --disabled-fill-color: #AAA;\n",
              "      --disabled-bg-color: #DDD;\n",
              "  }\n",
              "\n",
              "  [theme=dark] .colab-df-quickchart {\n",
              "      --bg-color: #3B4455;\n",
              "      --fill-color: #D2E3FC;\n",
              "      --hover-bg-color: #434B5C;\n",
              "      --hover-fill-color: #FFFFFF;\n",
              "      --disabled-bg-color: #3B4455;\n",
              "      --disabled-fill-color: #666;\n",
              "  }\n",
              "\n",
              "  .colab-df-quickchart {\n",
              "    background-color: var(--bg-color);\n",
              "    border: none;\n",
              "    border-radius: 50%;\n",
              "    cursor: pointer;\n",
              "    display: none;\n",
              "    fill: var(--fill-color);\n",
              "    height: 32px;\n",
              "    padding: 0;\n",
              "    width: 32px;\n",
              "  }\n",
              "\n",
              "  .colab-df-quickchart:hover {\n",
              "    background-color: var(--hover-bg-color);\n",
              "    box-shadow: 0 1px 2px rgba(60, 64, 67, 0.3), 0 1px 3px 1px rgba(60, 64, 67, 0.15);\n",
              "    fill: var(--button-hover-fill-color);\n",
              "  }\n",
              "\n",
              "  .colab-df-quickchart-complete:disabled,\n",
              "  .colab-df-quickchart-complete:disabled:hover {\n",
              "    background-color: var(--disabled-bg-color);\n",
              "    fill: var(--disabled-fill-color);\n",
              "    box-shadow: none;\n",
              "  }\n",
              "\n",
              "  .colab-df-spinner {\n",
              "    border: 2px solid var(--fill-color);\n",
              "    border-color: transparent;\n",
              "    border-bottom-color: var(--fill-color);\n",
              "    animation:\n",
              "      spin 1s steps(1) infinite;\n",
              "  }\n",
              "\n",
              "  @keyframes spin {\n",
              "    0% {\n",
              "      border-color: transparent;\n",
              "      border-bottom-color: var(--fill-color);\n",
              "      border-left-color: var(--fill-color);\n",
              "    }\n",
              "    20% {\n",
              "      border-color: transparent;\n",
              "      border-left-color: var(--fill-color);\n",
              "      border-top-color: var(--fill-color);\n",
              "    }\n",
              "    30% {\n",
              "      border-color: transparent;\n",
              "      border-left-color: var(--fill-color);\n",
              "      border-top-color: var(--fill-color);\n",
              "      border-right-color: var(--fill-color);\n",
              "    }\n",
              "    40% {\n",
              "      border-color: transparent;\n",
              "      border-right-color: var(--fill-color);\n",
              "      border-top-color: var(--fill-color);\n",
              "    }\n",
              "    60% {\n",
              "      border-color: transparent;\n",
              "      border-right-color: var(--fill-color);\n",
              "    }\n",
              "    80% {\n",
              "      border-color: transparent;\n",
              "      border-right-color: var(--fill-color);\n",
              "      border-bottom-color: var(--fill-color);\n",
              "    }\n",
              "    90% {\n",
              "      border-color: transparent;\n",
              "      border-bottom-color: var(--fill-color);\n",
              "    }\n",
              "  }\n",
              "</style>\n",
              "\n",
              "      <script>\n",
              "        async function quickchart(key) {\n",
              "          const quickchartButtonEl =\n",
              "            document.querySelector('#' + key + ' button');\n",
              "          quickchartButtonEl.disabled = true;  // To prevent multiple clicks.\n",
              "          quickchartButtonEl.classList.add('colab-df-spinner');\n",
              "          try {\n",
              "            const charts = await google.colab.kernel.invokeFunction(\n",
              "                'suggestCharts', [key], {});\n",
              "          } catch (error) {\n",
              "            console.error('Error during call to suggestCharts:', error);\n",
              "          }\n",
              "          quickchartButtonEl.classList.remove('colab-df-spinner');\n",
              "          quickchartButtonEl.classList.add('colab-df-quickchart-complete');\n",
              "        }\n",
              "        (() => {\n",
              "          let quickchartButtonEl =\n",
              "            document.querySelector('#df-db3ffdbb-be26-441e-b30b-a1b76685d8a8 button');\n",
              "          quickchartButtonEl.style.display =\n",
              "            google.colab.kernel.accessAllowed ? 'block' : 'none';\n",
              "        })();\n",
              "      </script>\n",
              "    </div>\n",
              "\n",
              "    </div>\n",
              "  </div>\n"
            ],
            "application/vnd.google.colaboratory.intrinsic+json": {
              "type": "dataframe",
              "variable_name": "df"
            }
          },
          "metadata": {},
          "execution_count": 49
        }
      ],
      "source": [
        "df.head()"
      ]
    },
    {
      "cell_type": "markdown",
      "metadata": {
        "id": "rbrlPv0-tXI5"
      },
      "source": [
        "# Explanation of the data\n",
        "As you can see the dataframe consists of 8 columns. Each row is a sample. The data was sampled at 200 Hz. That means 200 samples per second. There are four channels on the EEG device, two of these were place on the frontal lobe (forehead) and two on the temporal lobe (sides of the head). The acc1-3 channels are the accelerometer. If the subject moves, these channels will detect that. The time is represented by the final two columns."
      ]
    },
    {
      "cell_type": "markdown",
      "metadata": {
        "id": "P__DExfetXI7"
      },
      "source": [
        "Below, we will plot the entire time course of one channel."
      ]
    },
    {
      "cell_type": "code",
      "execution_count": 50,
      "metadata": {
        "colab": {
          "base_uri": "https://localhost:8080/",
          "height": 447
        },
        "id": "yeSpgiJctXI9",
        "outputId": "ac01a737-36ec-4889-98d1-f2f866ba3d69"
      },
      "outputs": [
        {
          "output_type": "execute_result",
          "data": {
            "text/plain": [
              "[<matplotlib.lines.Line2D at 0x7bb0b3759a50>]"
            ]
          },
          "metadata": {},
          "execution_count": 50
        },
        {
          "output_type": "display_data",
          "data": {
            "text/plain": [
              "<Figure size 640x480 with 1 Axes>"
            ],
            "image/png": "[encoded data removed]"
          },
          "metadata": {}
        }
      ],
      "source": [
        "plt.figure()\n",
        "plt.plot(df['channel2'])"
      ]
    },
    {
      "cell_type": "markdown",
      "source": [
        "Question 1. What should the axes be labeled on the plot above?"
      ],
      "metadata": {
        "id": "DzFs8-CWiIFl"
      }
    },
    {
      "cell_type": "markdown",
      "source": [
        "Answer: The X-axis should be labled Time and the Y-axis should be labled channel2 (Voltage Potential)."
      ],
      "metadata": {
        "id": "Ly6IWDiIEaSs"
      }
    },
    {
      "cell_type": "markdown",
      "metadata": {
        "id": "Oz0fJ8xCtXI_"
      },
      "source": [
        "# Remove drift\n",
        "The mean of the data changes over time. This is called drift. We can remove this trend in the data using scipy's detrend function."
      ]
    },
    {
      "cell_type": "code",
      "execution_count": 51,
      "metadata": {
        "colab": {
          "base_uri": "https://localhost:8080/",
          "height": 447
        },
        "id": "lT0oFcOStXJB",
        "outputId": "0dd0677f-7b24-4a6b-ae54-52843c53067b"
      },
      "outputs": [
        {
          "output_type": "execute_result",
          "data": {
            "text/plain": [
              "[<matplotlib.lines.Line2D at 0x7bb0b32c2750>]"
            ]
          },
          "metadata": {},
          "execution_count": 51
        },
        {
          "output_type": "display_data",
          "data": {
            "text/plain": [
              "<Figure size 640x480 with 1 Axes>"
            ],
            "image/png": "[encoded data removed]"
          },
          "metadata": {}
        }
      ],
      "source": [
        "plt.plot(df['channel1'])\n",
        "plt.plot(ss.detrend(df['channel1']))"
      ]
    },
    {
      "cell_type": "code",
      "execution_count": 52,
      "metadata": {
        "id": "RRBffHTPtXJC"
      },
      "outputs": [],
      "source": [
        "df['channel1'] = ss.detrend(df['channel1'])\n",
        "df['channel2'] = ss.detrend(df['channel2'])\n",
        "df['channel3'] = ss.detrend(df['channel3'])\n",
        "df['channel4'] = ss.detrend(df['channel4'])"
      ]
    },
    {
      "cell_type": "markdown",
      "source": [
        "Question 2. Where does drift come from?"
      ],
      "metadata": {
        "id": "IUfjUiTnh-_u"
      }
    },
    {
      "cell_type": "markdown",
      "source": [
        "Answer: The drift come from accruing electrical potentials in the skin that slowly dirstort EEG data as it is collected. Because it is always present it forms a realitivly steady change over time."
      ],
      "metadata": {
        "id": "zysC5ULNGIEe"
      }
    },
    {
      "cell_type": "markdown",
      "metadata": {
        "id": "CxFHk6Y9tXJE"
      },
      "source": [
        "# Artifact removal\n",
        "Whenever the subject moved or blinked, there is a large deviation in the potential of all channels. We need to remove these."
      ]
    },
    {
      "cell_type": "code",
      "execution_count": 53,
      "metadata": {
        "id": "h-a0T9--tXJF"
      },
      "outputs": [],
      "source": [
        "zchan1 = (df['channel1']-np.mean(df['channel1']))/np.std(df['channel1'])\n",
        "zchan2 = (df['channel2']-np.mean(df['channel2']))/np.std(df['channel2'])\n",
        "zchan3 = (df['channel3']-np.mean(df['channel3']))/np.std(df['channel3'])\n",
        "zchan4 = (df['channel4']-np.mean(df['channel4']))/np.std(df['channel4'])"
      ]
    },
    {
      "cell_type": "code",
      "execution_count": 54,
      "metadata": {
        "colab": {
          "base_uri": "https://localhost:8080/",
          "height": 693
        },
        "id": "NpUb4jJmtXJF",
        "outputId": "0d3c1f70-5e50-4c48-fe0c-5c3db8b26e71"
      },
      "outputs": [
        {
          "output_type": "execute_result",
          "data": {
            "text/plain": [
              "[<matplotlib.lines.Line2D at 0x7bb0b32f0110>]"
            ]
          },
          "metadata": {},
          "execution_count": 54
        },
        {
          "output_type": "display_data",
          "data": {
            "text/plain": [
              "<Figure size 1800x800 with 1 Axes>"
            ],
            "image/png": "[encoded data removed]"
          },
          "metadata": {}
        }
      ],
      "source": [
        "plt.figure(figsize=(18,8))\n",
        "plt.plot(zchan1)\n",
        "plt.plot(zchan1[np.abs(zchan1)>3],'r.')"
      ]
    },
    {
      "cell_type": "markdown",
      "metadata": {
        "id": "oqBY1mjttXJG"
      },
      "source": [
        "Most of these are artifacts."
      ]
    },
    {
      "cell_type": "markdown",
      "source": [
        "Question 3. What is one source of artifacts?"
      ],
      "metadata": {
        "id": "mUPNGl7fipDD"
      }
    },
    {
      "cell_type": "markdown",
      "source": [
        "Answer: Because electrical potentials are bing picked up from various parts of the brain any movements or other stimulus is shown as a sharp change in the othewise stable data. They are very short, but intense, bursts of electrical potential changes."
      ],
      "metadata": {
        "id": "QhybmoHdG-RW"
      }
    },
    {
      "cell_type": "markdown",
      "metadata": {
        "id": "uvektwMCtXJO"
      },
      "source": [
        "# Make y labels\n",
        "The subject was in two states during the experiment; their eyes were either open or closed. Below, we define the times at which the eyes were open or closed."
      ]
    },
    {
      "cell_type": "code",
      "execution_count": 55,
      "metadata": {
        "id": "TuzZwdqxtXJP"
      },
      "outputs": [],
      "source": [
        "df['seconds_from_start']=(df['timestamp']-df['timestamp'].iloc[0])/1000"
      ]
    },
    {
      "cell_type": "code",
      "execution_count": 56,
      "metadata": {
        "id": "1umxgUegtXJQ"
      },
      "outputs": [],
      "source": [
        "y_labels = np.zeros((df['time_std'].shape[0],1))"
      ]
    },
    {
      "cell_type": "code",
      "execution_count": 57,
      "metadata": {
        "id": "gKwdvSzqtXJT"
      },
      "outputs": [],
      "source": [
        "y_labels[(60<df.seconds_from_start)&(df.seconds_from_start<90)] = 1\n",
        "y_labels[(120<df.seconds_from_start)&(df.seconds_from_start<150)] = 1\n",
        "y_labels[(180<df.seconds_from_start)&(df.seconds_from_start<210)] = 1\n",
        "y_labels[(240<df.seconds_from_start)&(df.seconds_from_start<270)] = 1\n",
        "y_labels[(300<df.seconds_from_start)&(df.seconds_from_start<330)] = 1\n",
        "y_labels[(360<df.seconds_from_start)&(df.seconds_from_start<390)] = 1\n",
        "y_labels[(420<df.seconds_from_start)&(df.seconds_from_start<450)] = 1\n",
        "y_labels[(480<df.seconds_from_start)&(df.seconds_from_start<510)] = 1\n",
        "y_labels[(540<df.seconds_from_start)&(df.seconds_from_start<570)] = 1\n",
        "y_labels[(600<df.seconds_from_start)&(df.seconds_from_start<630)] = 1"
      ]
    },
    {
      "cell_type": "code",
      "execution_count": 58,
      "metadata": {
        "id": "rtB_q2qPtXKC",
        "colab": {
          "base_uri": "https://localhost:8080/",
          "height": 447
        },
        "outputId": "e9fda3d6-f1d3-44e7-bb9c-d825ea062725"
      },
      "outputs": [
        {
          "output_type": "execute_result",
          "data": {
            "text/plain": [
              "[<matplotlib.lines.Line2D at 0x7bb0ad129d90>]"
            ]
          },
          "metadata": {},
          "execution_count": 58
        },
        {
          "output_type": "display_data",
          "data": {
            "text/plain": [
              "<Figure size 640x480 with 1 Axes>"
            ],
            "image/png": "[encoded data removed]"
          },
          "metadata": {}
        }
      ],
      "source": [
        "plt.plot(zchan2)\n",
        "plt.plot(y_labels,'r')"
      ]
    },
    {
      "cell_type": "markdown",
      "metadata": {
        "id": "THGQFnHdtXKG"
      },
      "source": [
        "In the plot above, the trace of a single channel is shown in blue and whether or not the eyes were closed is shown in red. y_labels == 1 means eyes closed and y_labels == 0 means eyes open."
      ]
    },
    {
      "cell_type": "markdown",
      "metadata": {
        "id": "RwiBi7cvtXKH"
      },
      "source": [
        "Remove 60 Hz noise and artifacts. Any time a signal is recorded inside of a building, there will be a prominent 60 Hz noise from the power lines. We will remove this using a notch filter."
      ]
    },
    {
      "cell_type": "markdown",
      "source": [
        "Question 4. What are the 'groundtruth' classifications for this data? Where do they come from?"
      ],
      "metadata": {
        "id": "2CjBuLf0i8Th"
      }
    },
    {
      "cell_type": "markdown",
      "source": [
        "Answer: The 'groundtruth' classifiations are eyes open or closed, this is known becaue the subject was recored opening and closing their eyes for repeated ten second intervals."
      ],
      "metadata": {
        "id": "B3E-wvBYH04d"
      }
    },
    {
      "cell_type": "code",
      "execution_count": 59,
      "metadata": {
        "id": "pNMslpmhtXKI"
      },
      "outputs": [],
      "source": [
        "b, a = ss.iirnotch(60.0, 200.0, 200.)\n",
        "\n",
        "zchan1 = ss.filtfilt(b,a,zchan1)\n",
        "zchan2 = ss.filtfilt(b,a,zchan2)\n",
        "zchan3 = ss.filtfilt(b,a,zchan3)\n",
        "zchan4 = ss.filtfilt(b,a,zchan4)\n",
        "\n",
        "zchan1[np.abs(zchan1)>3] = np.nan\n",
        "zchan2[np.abs(zchan2)>3] = np.nan\n",
        "zchan3[np.abs(zchan3)>3] = np.nan\n",
        "zchan4[np.abs(zchan4)>3] = np.nan\n",
        "y_labels[(np.abs(zchan1)>3) | (np.abs(zchan2)>3) | (np.abs(zchan3)>3) | (np.abs(zchan4)>3)] = np.nan"
      ]
    },
    {
      "cell_type": "code",
      "execution_count": 60,
      "metadata": {
        "id": "lxUAPwHktXKJ"
      },
      "outputs": [],
      "source": [
        "df['channel1'] = zchan1\n",
        "df['channel2'] = zchan2\n",
        "df['channel3'] = zchan3\n",
        "df['channel4'] = zchan4\n",
        "df['y_labels'] = y_labels"
      ]
    },
    {
      "cell_type": "markdown",
      "metadata": {
        "id": "jFNygENitXKK"
      },
      "source": [
        "The below graph shows the difference between eyes closed and eyes open in the frequency domain. It is well known that the eyes closed condition generates alpha waves at 8-12 Hz, which we also see in this recording. There may still be some 60 Hz noise that our notch filter failed to remove."
      ]
    },
    {
      "cell_type": "code",
      "execution_count": 61,
      "metadata": {
        "id": "KPyvSKKVtXKL",
        "colab": {
          "base_uri": "https://localhost:8080/",
          "height": 524
        },
        "outputId": "73a4d951-296b-4371-d73f-e1cd57464c93"
      },
      "outputs": [
        {
          "output_type": "stream",
          "name": "stderr",
          "text": [
            "<ipython-input-61-4c315fd989c0>:2: MatplotlibDeprecationWarning: Passing the NFFT parameter of psd() positionally is deprecated since Matplotlib 3.9; the parameter will become keyword-only in 3.11.\n",
            "  plt.psd(X[~np.isnan(X)],512,Fs=200,color='r')\n",
            "<ipython-input-61-4c315fd989c0>:4: MatplotlibDeprecationWarning: Passing the NFFT parameter of psd() positionally is deprecated since Matplotlib 3.9; the parameter will become keyword-only in 3.11.\n",
            "  plt.psd(X[~np.isnan(X)],512,Fs=200)\n"
          ]
        },
        {
          "output_type": "display_data",
          "data": {
            "text/plain": [
              "<Figure size 640x480 with 1 Axes>"
            ],
            "image/png": "[encoded data removed]"
          },
          "metadata": {}
        }
      ],
      "source": [
        "X = df['channel2'].iloc[y_labels[:,0]==0]\n",
        "plt.psd(X[~np.isnan(X)],512,Fs=200,color='r')\n",
        "X = df['channel2'].iloc[y_labels[:,0]==1]\n",
        "plt.psd(X[~np.isnan(X)],512,Fs=200)\n",
        "plt.xlim(0,100)\n",
        "#plt.show()\n",
        "plt.show()"
      ]
    },
    {
      "cell_type": "markdown",
      "source": [
        "Question 5. What 'noise' causes the peak at 60 Hz frequency? What about 80 Hz? Will there be peaks at multiples of these frequencies i.e. 120 Hz? What is the name of the structure that neuroscience researchers perform electrophysiology inside to eliminate such noise?"
      ],
      "metadata": {
        "id": "x5rTxGK0jngY"
      }
    },
    {
      "cell_type": "markdown",
      "source": [
        "Answer:\n",
        "\n",
        "The 60Hz interferance is the continued background power/device related interferance, as electrical systems run on 60Hz.\n",
        "\n",
        "The 80Hz is from high frequency brain activity, when opening or closing your eyes mental processes are going on that are represented as a 80Hz spike, even if the activity itself is a low Hz signal. EEG monitors multiple parts of your brain, rather than the jutting spike from movement, this is a regular spike from thinking really fast, or image processing.\n",
        "\n",
        "The tool to reduce noise used is called a faraday cage, which helps limit external interferance signals."
      ],
      "metadata": {
        "id": "usx8__nlIu1z"
      }
    },
    {
      "cell_type": "code",
      "execution_count": 64,
      "metadata": {
        "id": "Xdb2BsSktXKN",
        "colab": {
          "base_uri": "https://localhost:8080/"
        },
        "outputId": "6e1794b8-7ae3-4066-b81a-35b5323d6457"
      },
      "outputs": [
        {
          "output_type": "stream",
          "name": "stderr",
          "text": [
            "/usr/local/lib/python3.11/dist-packages/scipy/signal/_spectral_py.py:790: UserWarning: nperseg = 512 is greater than input length  = 200, using nperseg = 200\n",
            "  freqs, _, Pxy = _spectral_helper(x, y, fs, window, nperseg, noverlap,\n",
            "/usr/local/lib/python3.11/dist-packages/scipy/signal/_spectral_py.py:790: UserWarning: nperseg = 512 is greater than input length  = 167, using nperseg = 167\n",
            "  freqs, _, Pxy = _spectral_helper(x, y, fs, window, nperseg, noverlap,\n",
            "/usr/local/lib/python3.11/dist-packages/scipy/signal/_spectral_py.py:790: UserWarning: nperseg = 512 is greater than input length  = 170, using nperseg = 170\n",
            "  freqs, _, Pxy = _spectral_helper(x, y, fs, window, nperseg, noverlap,\n",
            "/usr/local/lib/python3.11/dist-packages/scipy/signal/_spectral_py.py:790: UserWarning: nperseg = 512 is greater than input length  = 199, using nperseg = 199\n",
            "  freqs, _, Pxy = _spectral_helper(x, y, fs, window, nperseg, noverlap,\n",
            "/usr/local/lib/python3.11/dist-packages/scipy/signal/_spectral_py.py:790: UserWarning: nperseg = 512 is greater than input length  = 179, using nperseg = 179\n",
            "  freqs, _, Pxy = _spectral_helper(x, y, fs, window, nperseg, noverlap,\n",
            "/usr/local/lib/python3.11/dist-packages/scipy/signal/_spectral_py.py:790: UserWarning: nperseg = 512 is greater than input length  = 157, using nperseg = 157\n",
            "  freqs, _, Pxy = _spectral_helper(x, y, fs, window, nperseg, noverlap,\n",
            "/usr/local/lib/python3.11/dist-packages/scipy/signal/_spectral_py.py:790: UserWarning: nperseg = 512 is greater than input length  = 154, using nperseg = 154\n",
            "  freqs, _, Pxy = _spectral_helper(x, y, fs, window, nperseg, noverlap,\n",
            "/usr/local/lib/python3.11/dist-packages/scipy/signal/_spectral_py.py:790: UserWarning: nperseg = 512 is greater than input length  = 194, using nperseg = 194\n",
            "  freqs, _, Pxy = _spectral_helper(x, y, fs, window, nperseg, noverlap,\n",
            "/usr/local/lib/python3.11/dist-packages/scipy/signal/_spectral_py.py:790: UserWarning: nperseg = 512 is greater than input length  = 190, using nperseg = 190\n",
            "  freqs, _, Pxy = _spectral_helper(x, y, fs, window, nperseg, noverlap,\n",
            "/usr/local/lib/python3.11/dist-packages/scipy/signal/_spectral_py.py:790: UserWarning: nperseg = 512 is greater than input length  = 80, using nperseg = 80\n",
            "  freqs, _, Pxy = _spectral_helper(x, y, fs, window, nperseg, noverlap,\n",
            "/usr/local/lib/python3.11/dist-packages/scipy/signal/_spectral_py.py:790: UserWarning: nperseg = 512 is greater than input length  = 81, using nperseg = 81\n",
            "  freqs, _, Pxy = _spectral_helper(x, y, fs, window, nperseg, noverlap,\n",
            "/usr/local/lib/python3.11/dist-packages/scipy/signal/_spectral_py.py:790: UserWarning: nperseg = 512 is greater than input length  = 158, using nperseg = 158\n",
            "  freqs, _, Pxy = _spectral_helper(x, y, fs, window, nperseg, noverlap,\n",
            "/usr/local/lib/python3.11/dist-packages/scipy/signal/_spectral_py.py:790: UserWarning: nperseg = 512 is greater than input length  = 77, using nperseg = 77\n",
            "  freqs, _, Pxy = _spectral_helper(x, y, fs, window, nperseg, noverlap,\n",
            "/usr/local/lib/python3.11/dist-packages/scipy/signal/_spectral_py.py:790: UserWarning: nperseg = 512 is greater than input length  = 136, using nperseg = 136\n",
            "  freqs, _, Pxy = _spectral_helper(x, y, fs, window, nperseg, noverlap,\n",
            "/usr/local/lib/python3.11/dist-packages/scipy/signal/_spectral_py.py:790: UserWarning: nperseg = 512 is greater than input length  = 189, using nperseg = 189\n",
            "  freqs, _, Pxy = _spectral_helper(x, y, fs, window, nperseg, noverlap,\n",
            "/usr/local/lib/python3.11/dist-packages/scipy/signal/_spectral_py.py:790: UserWarning: nperseg = 512 is greater than input length  = 186, using nperseg = 186\n",
            "  freqs, _, Pxy = _spectral_helper(x, y, fs, window, nperseg, noverlap,\n",
            "/usr/local/lib/python3.11/dist-packages/scipy/signal/_spectral_py.py:790: UserWarning: nperseg = 512 is greater than input length  = 115, using nperseg = 115\n",
            "  freqs, _, Pxy = _spectral_helper(x, y, fs, window, nperseg, noverlap,\n",
            "/usr/local/lib/python3.11/dist-packages/scipy/signal/_spectral_py.py:790: UserWarning: nperseg = 512 is greater than input length  = 129, using nperseg = 129\n",
            "  freqs, _, Pxy = _spectral_helper(x, y, fs, window, nperseg, noverlap,\n",
            "/usr/local/lib/python3.11/dist-packages/scipy/signal/_spectral_py.py:790: UserWarning: nperseg = 512 is greater than input length  = 197, using nperseg = 197\n",
            "  freqs, _, Pxy = _spectral_helper(x, y, fs, window, nperseg, noverlap,\n",
            "/usr/local/lib/python3.11/dist-packages/scipy/signal/_spectral_py.py:790: UserWarning: nperseg = 512 is greater than input length  = 198, using nperseg = 198\n",
            "  freqs, _, Pxy = _spectral_helper(x, y, fs, window, nperseg, noverlap,\n",
            "/usr/local/lib/python3.11/dist-packages/scipy/signal/_spectral_py.py:790: UserWarning: nperseg = 512 is greater than input length  = 193, using nperseg = 193\n",
            "  freqs, _, Pxy = _spectral_helper(x, y, fs, window, nperseg, noverlap,\n",
            "/usr/local/lib/python3.11/dist-packages/scipy/signal/_spectral_py.py:790: UserWarning: nperseg = 512 is greater than input length  = 141, using nperseg = 141\n",
            "  freqs, _, Pxy = _spectral_helper(x, y, fs, window, nperseg, noverlap,\n",
            "/usr/local/lib/python3.11/dist-packages/scipy/signal/_spectral_py.py:790: UserWarning: nperseg = 512 is greater than input length  = 168, using nperseg = 168\n",
            "  freqs, _, Pxy = _spectral_helper(x, y, fs, window, nperseg, noverlap,\n",
            "/usr/local/lib/python3.11/dist-packages/scipy/signal/_spectral_py.py:790: UserWarning: nperseg = 512 is greater than input length  = 45, using nperseg = 45\n",
            "  freqs, _, Pxy = _spectral_helper(x, y, fs, window, nperseg, noverlap,\n",
            "/usr/local/lib/python3.11/dist-packages/scipy/signal/_spectral_py.py:790: UserWarning: nperseg = 512 is greater than input length  = 87, using nperseg = 87\n",
            "  freqs, _, Pxy = _spectral_helper(x, y, fs, window, nperseg, noverlap,\n",
            "/usr/local/lib/python3.11/dist-packages/scipy/signal/_spectral_py.py:790: UserWarning: nperseg = 512 is greater than input length  = 112, using nperseg = 112\n",
            "  freqs, _, Pxy = _spectral_helper(x, y, fs, window, nperseg, noverlap,\n",
            "/usr/local/lib/python3.11/dist-packages/scipy/signal/_spectral_py.py:790: UserWarning: nperseg = 512 is greater than input length  = 113, using nperseg = 113\n",
            "  freqs, _, Pxy = _spectral_helper(x, y, fs, window, nperseg, noverlap,\n",
            "/usr/local/lib/python3.11/dist-packages/scipy/signal/_spectral_py.py:790: UserWarning: nperseg = 512 is greater than input length  = 50, using nperseg = 50\n",
            "  freqs, _, Pxy = _spectral_helper(x, y, fs, window, nperseg, noverlap,\n",
            "/usr/local/lib/python3.11/dist-packages/scipy/signal/_spectral_py.py:790: UserWarning: nperseg = 512 is greater than input length  = 51, using nperseg = 51\n",
            "  freqs, _, Pxy = _spectral_helper(x, y, fs, window, nperseg, noverlap,\n",
            "/usr/local/lib/python3.11/dist-packages/scipy/signal/_spectral_py.py:790: UserWarning: nperseg = 512 is greater than input length  = 90, using nperseg = 90\n",
            "  freqs, _, Pxy = _spectral_helper(x, y, fs, window, nperseg, noverlap,\n",
            "/usr/local/lib/python3.11/dist-packages/scipy/signal/_spectral_py.py:790: UserWarning: nperseg = 512 is greater than input length  = 91, using nperseg = 91\n",
            "  freqs, _, Pxy = _spectral_helper(x, y, fs, window, nperseg, noverlap,\n",
            "/usr/local/lib/python3.11/dist-packages/scipy/signal/_spectral_py.py:790: UserWarning: nperseg = 512 is greater than input length  = 101, using nperseg = 101\n",
            "  freqs, _, Pxy = _spectral_helper(x, y, fs, window, nperseg, noverlap,\n",
            "/usr/local/lib/python3.11/dist-packages/scipy/signal/_spectral_py.py:790: UserWarning: nperseg = 512 is greater than input length  = 172, using nperseg = 172\n",
            "  freqs, _, Pxy = _spectral_helper(x, y, fs, window, nperseg, noverlap,\n",
            "/usr/local/lib/python3.11/dist-packages/scipy/signal/_spectral_py.py:790: UserWarning: nperseg = 512 is greater than input length  = 31, using nperseg = 31\n",
            "  freqs, _, Pxy = _spectral_helper(x, y, fs, window, nperseg, noverlap,\n",
            "/usr/local/lib/python3.11/dist-packages/scipy/signal/_spectral_py.py:790: UserWarning: nperseg = 512 is greater than input length  = 42, using nperseg = 42\n",
            "  freqs, _, Pxy = _spectral_helper(x, y, fs, window, nperseg, noverlap,\n",
            "/usr/local/lib/python3.11/dist-packages/scipy/signal/_spectral_py.py:790: UserWarning: nperseg = 512 is greater than input length  = 185, using nperseg = 185\n",
            "  freqs, _, Pxy = _spectral_helper(x, y, fs, window, nperseg, noverlap,\n",
            "/usr/local/lib/python3.11/dist-packages/scipy/signal/_spectral_py.py:790: UserWarning: nperseg = 512 is greater than input length  = 67, using nperseg = 67\n",
            "  freqs, _, Pxy = _spectral_helper(x, y, fs, window, nperseg, noverlap,\n",
            "/usr/local/lib/python3.11/dist-packages/scipy/signal/_spectral_py.py:790: UserWarning: nperseg = 512 is greater than input length  = 71, using nperseg = 71\n",
            "  freqs, _, Pxy = _spectral_helper(x, y, fs, window, nperseg, noverlap,\n",
            "/usr/local/lib/python3.11/dist-packages/scipy/signal/_spectral_py.py:790: UserWarning: nperseg = 512 is greater than input length  = 19, using nperseg = 19\n",
            "  freqs, _, Pxy = _spectral_helper(x, y, fs, window, nperseg, noverlap,\n",
            "/usr/local/lib/python3.11/dist-packages/scipy/signal/_spectral_py.py:790: UserWarning: nperseg = 512 is greater than input length  = 61, using nperseg = 61\n",
            "  freqs, _, Pxy = _spectral_helper(x, y, fs, window, nperseg, noverlap,\n",
            "/usr/local/lib/python3.11/dist-packages/scipy/signal/_spectral_py.py:790: UserWarning: nperseg = 512 is greater than input length  = 63, using nperseg = 63\n",
            "  freqs, _, Pxy = _spectral_helper(x, y, fs, window, nperseg, noverlap,\n"
          ]
        }
      ],
      "source": [
        "# Install scipy (only needed once, can be skipped if already installed)\n",
        "# !pip install --upgrade scipy\n",
        "\n",
        "# === Imports ===\n",
        "import numpy as np\n",
        "import pandas as pd\n",
        "from scipy import integrate\n",
        "from scipy.signal import welch\n",
        "\n",
        "# === Bandpower Function ===\n",
        "def bandpower(trace, band, fs=200):\n",
        "    trace = trace[~np.isnan(trace)]\n",
        "    # Check if trace has enough data points\n",
        "    if len(trace) < 2: # Add a check to ensure enough data points are available\n",
        "        return np.nan\n",
        "\n",
        "    f, Pxx = welch(trace, fs=fs, nperseg=512)\n",
        "    # Use 'scipy.integrate.simpson' for integration\n",
        "    total_power = integrate.simpson(Pxx, f)\n",
        "    band_mask = (f > band[0]) & (f < band[1])\n",
        "    # Check if band_mask is empty\n",
        "    if not band_mask.any(): # Add a check for an empty band_mask\n",
        "        return np.nan\n",
        "\n",
        "    # Use 'scipy.integrate.simpson' for integration\n",
        "    band_power = integrate.simpson(Pxx[band_mask], f[band_mask])\n",
        "    return band_power / total_power if total_power != 0 else np.nan\n",
        "\n",
        "# === Feature Extraction ===\n",
        "input_mat = np.zeros((600, 21))\n",
        "c = 0\n",
        "\n",
        "for i in np.arange(0, 120000, 200):\n",
        "    X1 = df['channel1']\n",
        "    X2 = df['channel2']\n",
        "    X3 = df['channel3']\n",
        "    X4 = df['channel4']\n",
        "    Y = df['y_labels']\n",
        "\n",
        "    X1 = X1[i:i+200]\n",
        "    X2 = X2[i:i+200]\n",
        "    X3 = X3[i:i+200]\n",
        "    X4 = X4[i:i+200]\n",
        "    Y = Y[i:i+200]\n",
        "\n",
        "    # Alpha band (8–12 Hz)\n",
        "    input_mat[c, 0] = bandpower(X1, [8, 12])\n",
        "    input_mat[c, 1] = bandpower(X2, [8, 12])\n",
        "    input_mat[c, 2] = bandpower(X3, [8, 12])\n",
        "    input_mat[c, 3] = bandpower(X4, [8, 12])\n",
        "\n",
        "    # Theta band (3–8 Hz)\n",
        "    input_mat[c, 4] = bandpower(X1, [3, 8])\n",
        "    input_mat[c, 5] = bandpower(X2, [3, 8])\n",
        "    input_mat[c, 6] = bandpower(X3, [3, 8])\n",
        "    input_mat[c, 7] = bandpower(X4, [3, 8])\n",
        "\n",
        "    # Beta band (12–38 Hz)\n",
        "    input_mat[c, 8] = bandpower(X1, [12, 38])\n",
        "    input_mat[c, 9] = bandpower(X2, [12, 38])\n",
        "    input_mat[c, 10] = bandpower(X3, [12, 38])\n",
        "    input_mat[c, 11] = bandpower(X4, [12, 38])\n",
        "\n",
        "    # Gamma band (38–100 Hz)\n",
        "    input_mat[c, 12] = bandpower(X1, [38, 100])\n",
        "    input_mat[c, 13] = bandpower(X2, [38, 100])\n",
        "    input_mat[c, 14] = bandpower(X3, [38, 100])\n",
        "    input_mat[c, 15] = bandpower(X4, [38, 100])\n",
        "\n",
        "    # Delta band (0.5–3 Hz)\n",
        "    input_mat[c, 16] = bandpower(X1, [0.5, 3])\n",
        "    input_mat[c, 17] = bandpower(X2, [0.5, 3])\n",
        "    input_mat[c, 18] = bandpower(X3, [0.5, 3])\n",
        "    input_mat[c, 19] = bandpower(X4, [0.5, 3])\n",
        "\n",
        "    # Label: Eyes closed\n",
        "    u, n = np.unique(Y, return_counts=True)\n",
        "    input_mat[c, -1] = u[0].astype(int) if n.shape[0] == 1 else np.nan\n",
        "\n",
        "    c += 1\n",
        "\n",
        "# === Convert to DataFrame ===\n",
        "feat_eng_df = pd.DataFrame(input_mat, columns=[\n",
        "    'alpha_power_1','alpha_power_2','alpha_power_3','alpha_power_4',\n",
        "    'theta_power_1','theta_power_2','theta_power_3','theta_power_4',\n",
        "    'beta_power_1','beta_power_2','beta_power_3','beta_power_4',\n",
        "    'gamma_power_1','gamma_power_2','gamma_power_3','gamma_power_4',\n",
        "    'delta_power_1','delta_power_2','delta_power_3','delta_power_4',\n",
        "    'eyes_closed'\n",
        "])\n"
      ]
    },
    {
      "cell_type": "code",
      "execution_count": 65,
      "metadata": {
        "id": "2QQgOkIDtXKR",
        "colab": {
          "base_uri": "https://localhost:8080/",
          "height": 467
        },
        "outputId": "b174f609-23b1-48b1-ec8e-1030c18033bb"
      },
      "outputs": [
        {
          "output_type": "execute_result",
          "data": {
            "text/plain": [
              "<Axes: xlabel='eyes_closed', ylabel='alpha_power_3'>"
            ]
          },
          "metadata": {},
          "execution_count": 65
        },
        {
          "output_type": "display_data",
          "data": {
            "text/plain": [
              "<Figure size 640x480 with 1 Axes>"
            ],
            "image/png": "[encoded data removed]"
          },
          "metadata": {}
        }
      ],
      "source": [
        "import seaborn as sns\n",
        "sns.boxplot(x='eyes_closed',y='alpha_power_3',data=feat_eng_df)"
      ]
    },
    {
      "cell_type": "markdown",
      "metadata": {
        "id": "J8oEGqm1tXKS"
      },
      "source": [
        "# Feature Engineering Model"
      ]
    },
    {
      "cell_type": "code",
      "execution_count": 72,
      "metadata": {
        "id": "1l17hfcvtXKX"
      },
      "outputs": [],
      "source": [
        "from sklearn.preprocessing import scale\n",
        "\n",
        "train_df = feat_eng_df.iloc[0:420,:]\n",
        "test_df = feat_eng_df.iloc[420:,:]\n",
        "\n",
        "train_df = train_df.sample(frac=1).reset_index(drop=True)\n",
        "test_df = test_df.sample(frac=1).reset_index(drop=True)\n",
        "\n",
        "X_train = train_df.iloc[:,:-1]\n",
        "y_train = train_df.iloc[:,-1]\n",
        "X_test = test_df.iloc[:,:-1]\n",
        "y_test = test_df.iloc[:,-1]\n",
        "\n",
        "X_train = X_train[~np.isnan(y_train)]\n",
        "y_train = y_train[~np.isnan(y_train)]\n",
        "X_test = X_test[~np.isnan(y_test)]\n",
        "y_test = y_test[~np.isnan(y_test)]\n",
        "\n",
        "\n",
        "X_train = scale(X_train)\n",
        "X_test = scale(X_test)"
      ]
    },
    {
      "cell_type": "code",
      "execution_count": 73,
      "metadata": {
        "id": "7ZQjjWMHtXKZ",
        "colab": {
          "base_uri": "https://localhost:8080/"
        },
        "outputId": "e508722a-8d9d-4394-c19d-79556b5d01e0"
      },
      "outputs": [
        {
          "output_type": "execute_result",
          "data": {
            "text/plain": [
              "((408, 20), (174, 20))"
            ]
          },
          "metadata": {},
          "execution_count": 73
        }
      ],
      "source": [
        "X_train.shape, X_test.shape"
      ]
    },
    {
      "cell_type": "code",
      "execution_count": 78,
      "metadata": {
        "id": "D_OjGawGtXLO",
        "colab": {
          "base_uri": "https://localhost:8080/"
        },
        "outputId": "c3aadee3-0bf3-4e7d-ab88-87f0a0d6eefa"
      },
      "outputs": [
        {
          "output_type": "stream",
          "name": "stdout",
          "text": [
            "Logistic Regression Confusion Matrix:\n",
            "[[62 25]\n",
            " [53 34]]\n",
            "\n",
            "Random Forest Confusion Matrix:\n",
            "[[57 30]\n",
            " [42 45]]\n",
            "\n",
            "Multi-Layer Perceptron Confusion Matrix:\n",
            "[[73 14]\n",
            " [68 19]]\n"
          ]
        }
      ],
      "source": [
        "from sklearn.linear_model import LogisticRegression\n",
        "from sklearn.ensemble import RandomForestClassifier\n",
        "from sklearn.neural_network import MLPClassifier\n",
        "from sklearn.metrics import confusion_matrix\n",
        "from sklearn.impute import SimpleImputer\n",
        "\n",
        "# Initialize the imputer to replace NaN with the mean of the column\n",
        "imputer = SimpleImputer(strategy='mean')\n",
        "\n",
        "# Handle missing values by imputing them with the mean of each feature\n",
        "X_train_imputed = imputer.fit_transform(X_train)\n",
        "X_test_imputed = imputer.transform(X_test)\n",
        "\n",
        "# Initialize models\n",
        "lr = LogisticRegression(random_state=231)\n",
        "rf = RandomForestClassifier(random_state=2124)\n",
        "mlp = MLPClassifier(hidden_layer_sizes=(5,), early_stopping=True, max_iter=1000, random_state=12)\n",
        "\n",
        "# Train models on the training data and their measured classifications\n",
        "lr.fit(X_train_imputed, y_train.values)\n",
        "rf.fit(X_train_imputed, y_train.values)\n",
        "mlp.fit(X_train_imputed, y_train.values)\n",
        "\n",
        "# Make predictions using the trained models\n",
        "yhatlr = lr.predict(X_test_imputed)  # Logistic Regression predictions\n",
        "yhatrf = rf.predict(X_test_imputed)  # Random Forest predictions\n",
        "yhatmlp = mlp.predict(X_test_imputed)  # Multi-Layer Perceptron predictions\n",
        "\n",
        "# Compare model-predicted classifications with measured classifications\n",
        "print(\"Logistic Regression Confusion Matrix:\")\n",
        "print(confusion_matrix(y_test, yhatlr))  # Confusion Matrix for Logistic Regression\n",
        "\n",
        "print(\"\\nRandom Forest Confusion Matrix:\")\n",
        "print(confusion_matrix(y_test, yhatrf))  # Confusion Matrix for Random Forest\n",
        "\n",
        "print(\"\\nMulti-Layer Perceptron Confusion Matrix:\")\n",
        "print(confusion_matrix(y_test, yhatmlp))  # Confusion Matrix for MLP\n"
      ]
    },
    {
      "cell_type": "code",
      "source": [
        "from sklearn.metrics import accuracy_score\n",
        "\n",
        "# Compute the accuracy for each model\n",
        "accuracy_lr = accuracy_score(y_test, yhatlr)\n",
        "accuracy_rf = accuracy_score(y_test, yhatrf)\n",
        "accuracy_mlp = accuracy_score(y_test, yhatmlp)\n",
        "\n",
        "# Print out the accuracy for each model\n",
        "print(f\"Logistic Regression Accuracy: {accuracy_lr * 100:.2f}%\")\n",
        "print(f\"Random Forest Accuracy: {accuracy_rf * 100:.2f}%\")\n",
        "print(f\"MLP Accuracy: {accuracy_mlp * 100:.2f}%\")\n",
        "\n",
        "# Optional: Compare them in a more visual way (using a bar chart)\n",
        "import matplotlib.pyplot as plt\n",
        "\n",
        "# Models names\n",
        "models = ['Logistic Regression', 'Random Forest', 'MLP']\n",
        "\n",
        "# Accuracy values\n",
        "accuracies = [accuracy_lr, accuracy_rf, accuracy_mlp]\n"
      ],
      "metadata": {
        "colab": {
          "base_uri": "https://localhost:8080/"
        },
        "id": "BN7qLj5w8osE",
        "outputId": "db82492b-f715-4152-dd71-8e9aa0cc066a"
      },
      "execution_count": 79,
      "outputs": [
        {
          "output_type": "stream",
          "name": "stdout",
          "text": [
            "Logistic Regression Accuracy: 55.17%\n",
            "Random Forest Accuracy: 58.62%\n",
            "MLP Accuracy: 52.87%\n"
          ]
        }
      ]
    },
    {
      "cell_type": "markdown",
      "source": [
        "YOUR OLD VALUES FOR LR, RFC, and, MLPC that the questoni calculations are based on (for grading purposes):\n",
        "\n",
        "LR\n",
        "\n",
        "[[72 15]\n",
        "\n",
        "[31 56]]\n",
        "\n",
        "RFC\n",
        "\n",
        "[[56 31]\n",
        "\n",
        "[31 56]]\n",
        "\n",
        "MLPC\n",
        "\n",
        "[[61 26]\n",
        "\n",
        "[68 19]]\n",
        "\n",
        "When updating the code to prevent it from not working in gitHub teh values changed due to the new SciPy code that cascaded after the frequency graph section (Block 64)."
      ],
      "metadata": {
        "id": "PVpy8ucD6lUo"
      }
    },
    {
      "cell_type": "markdown",
      "source": [
        "Question 6. Briefly describe the algorithms: Logistic Regression, Random Forest Classifier, and Multi-Layer Perceptron Classifier.\n",
        "\n",
        "Question 7. What is a confusion Matrix? What information do the above numbers convey? How do you estimate accuracy from confusion matrix? Compute the accuracy of the 3 models and compare them."
      ],
      "metadata": {
        "id": "Re6ZB2Tsk7I5"
      }
    },
    {
      "cell_type": "markdown",
      "source": [
        "Answer Q6:\n",
        "\n",
        "Logistic regression is when a 'best fit' sorting line produces values where the target is either a maximum or a minimum for a given span of data, then outputs the input and predicted value for that extrema.\n",
        "\n",
        "Random Forest Classifier is a classifacation model using many decision trees fed random data samples. It clasifies each prediction grouping, then combines each tree grouping of nodes into a prediction web ergo, a forest style prediction algorythim.\n",
        "\n",
        "Multi-Layer Perceptron Classifier is very self explanitory rathern than a bunch of groups it uses a multiple layers of nodes sequentially aligned to identify patterns and classify data.\n",
        "\n",
        "Answer Q7:\n",
        "\n",
        "A Confusion Matrix is a means of evaluating a prediction models accuracy, this is done by obtaining four values, as seen in the output matrix, these are the True Positive (TP), True Negative (TN), False Positive (FP), and False Negitive (FN). You measure accuracy by comparing the values deturmined by each model...\n",
        "\n",
        "Accuracy = (TP+TF)/(TP+TF+FP+FN)\n",
        "\n",
        "So LR = 0.769 or 77% accurate\n",
        "\n",
        "RFC = 0.75 or 75% accurate\n",
        "\n",
        "MLPC = 0.585 or 59% accurate\n",
        "\n",
        "This means that LR is the best model."
      ],
      "metadata": {
        "id": "SHJhsKUfLeY4"
      }
    },
    {
      "cell_type": "markdown",
      "source": [
        "VIDEO STATES STUDENT WORK STOPS HERE. MOVE ON TO EEG LAB TUTORIALS"
      ],
      "metadata": {
        "id": "SldVuAWcUy50"
      }
    },
    {
      "cell_type": "markdown",
      "metadata": {
        "id": "eekErTC9tXLR"
      },
      "source": [
        "# Model raw data\n",
        "\n",
        "Below we transform the data into a frame suitable for supervised learning. A window size of 50 represents 0.25 seconds."
      ]
    },
    {
      "cell_type": "code",
      "execution_count": 80,
      "metadata": {
        "id": "BP_NaQBAtXLS"
      },
      "outputs": [],
      "source": [
        "df_train = df[df.seconds_from_start<=420]\n",
        "df_test = df[df.seconds_from_start>420]"
      ]
    },
    {
      "cell_type": "code",
      "execution_count": 81,
      "metadata": {
        "id": "9EPygaYDtXLT",
        "colab": {
          "base_uri": "https://localhost:8080/",
          "height": 206
        },
        "outputId": "6a237b10-23c1-4384-c1f7-f6c13c1d794f"
      },
      "outputs": [
        {
          "output_type": "execute_result",
          "data": {
            "text/plain": [
              "   channel1  channel2  channel3  channel4   acc1   acc2   acc3       time_std  \\\n",
              "0 -0.219697 -0.774254 -0.099779 -0.503364  0.912  0.112 -0.464   08:54:30.263   \n",
              "1  0.253886 -0.442505  1.015076  0.527823  0.912  0.112 -0.464   08:54:30.263   \n",
              "2  0.111783 -0.453969  0.839341  0.320779  0.912  0.112 -0.464   08:54:30.263   \n",
              "3 -0.232359 -0.767459  0.220389 -0.413223  0.912  0.112 -0.464   08:54:30.274   \n",
              "4 -0.051354 -0.574461  0.868939  0.340731  0.912  0.112 -0.464   08:54:30.274   \n",
              "\n",
              "      timestamp  seconds_from_start  y_labels  \n",
              "0  1.583848e+12               0.000       0.0  \n",
              "1  1.583848e+12               0.000       0.0  \n",
              "2  1.583848e+12               0.000       0.0  \n",
              "3  1.583848e+12               0.011       0.0  \n",
              "4  1.583848e+12               0.011       0.0  "
            ],
            "text/html": [
              "\n",
              "  <div id=\"df-359168f9-b5ed-4fb0-9bf2-b5f8aa9839a4\" class=\"colab-df-container\">\n",
              "    <div>\n",
              "<style scoped>\n",
              "    .dataframe tbody tr th:only-of-type {\n",
              "        vertical-align: middle;\n",
              "    }\n",
              "\n",
              "    .dataframe tbody tr th {\n",
              "        vertical-align: top;\n",
              "    }\n",
              "\n",
              "    .dataframe thead th {\n",
              "        text-align: right;\n",
              "    }\n",
              "</style>\n",
              "<table border=\"1\" class=\"dataframe\">\n",
              "  <thead>\n",
              "    <tr style=\"text-align: right;\">\n",
              "      <th></th>\n",
              "      <th>channel1</th>\n",
              "      <th>channel2</th>\n",
              "      <th>channel3</th>\n",
              "      <th>channel4</th>\n",
              "      <th>acc1</th>\n",
              "      <th>acc2</th>\n",
              "      <th>acc3</th>\n",
              "      <th>time_std</th>\n",
              "      <th>timestamp</th>\n",
              "      <th>seconds_from_start</th>\n",
              "      <th>y_labels</th>\n",
              "    </tr>\n",
              "  </thead>\n",
              "  <tbody>\n",
              "    <tr>\n",
              "      <th>0</th>\n",
              "      <td>-0.219697</td>\n",
              "      <td>-0.774254</td>\n",
              "      <td>-0.099779</td>\n",
              "      <td>-0.503364</td>\n",
              "      <td>0.912</td>\n",
              "      <td>0.112</td>\n",
              "      <td>-0.464</td>\n",
              "      <td>08:54:30.263</td>\n",
              "      <td>1.583848e+12</td>\n",
              "      <td>0.000</td>\n",
              "      <td>0.0</td>\n",
              "    </tr>\n",
              "    <tr>\n",
              "      <th>1</th>\n",
              "      <td>0.253886</td>\n",
              "      <td>-0.442505</td>\n",
              "      <td>1.015076</td>\n",
              "      <td>0.527823</td>\n",
              "      <td>0.912</td>\n",
              "      <td>0.112</td>\n",
              "      <td>-0.464</td>\n",
              "      <td>08:54:30.263</td>\n",
              "      <td>1.583848e+12</td>\n",
              "      <td>0.000</td>\n",
              "      <td>0.0</td>\n",
              "    </tr>\n",
              "    <tr>\n",
              "      <th>2</th>\n",
              "      <td>0.111783</td>\n",
              "      <td>-0.453969</td>\n",
              "      <td>0.839341</td>\n",
              "      <td>0.320779</td>\n",
              "      <td>0.912</td>\n",
              "      <td>0.112</td>\n",
              "      <td>-0.464</td>\n",
              "      <td>08:54:30.263</td>\n",
              "      <td>1.583848e+12</td>\n",
              "      <td>0.000</td>\n",
              "      <td>0.0</td>\n",
              "    </tr>\n",
              "    <tr>\n",
              "      <th>3</th>\n",
              "      <td>-0.232359</td>\n",
              "      <td>-0.767459</td>\n",
              "      <td>0.220389</td>\n",
              "      <td>-0.413223</td>\n",
              "      <td>0.912</td>\n",
              "      <td>0.112</td>\n",
              "      <td>-0.464</td>\n",
              "      <td>08:54:30.274</td>\n",
              "      <td>1.583848e+12</td>\n",
              "      <td>0.011</td>\n",
              "      <td>0.0</td>\n",
              "    </tr>\n",
              "    <tr>\n",
              "      <th>4</th>\n",
              "      <td>-0.051354</td>\n",
              "      <td>-0.574461</td>\n",
              "      <td>0.868939</td>\n",
              "      <td>0.340731</td>\n",
              "      <td>0.912</td>\n",
              "      <td>0.112</td>\n",
              "      <td>-0.464</td>\n",
              "      <td>08:54:30.274</td>\n",
              "      <td>1.583848e+12</td>\n",
              "      <td>0.011</td>\n",
              "      <td>0.0</td>\n",
              "    </tr>\n",
              "  </tbody>\n",
              "</table>\n",
              "</div>\n",
              "    <div class=\"colab-df-buttons\">\n",
              "\n",
              "  <div class=\"colab-df-container\">\n",
              "    <button class=\"colab-df-convert\" onclick=\"convertToInteractive('df-359168f9-b5ed-4fb0-9bf2-b5f8aa9839a4')\"\n",
              "            title=\"Convert this dataframe to an interactive table.\"\n",
              "            style=\"display:none;\">\n",
              "\n",
              "  <svg xmlns=\"http://www.w3.org/2000/svg\" height=\"24px\" viewBox=\"0 -960 960 960\">\n",
              "    <path d=\"M120-120v-720h720v720H120Zm60-500h600v-160H180v160Zm220 220h160v-160H400v160Zm0 220h160v-160H400v160ZM180-400h160v-160H180v160Zm440 0h160v-160H620v160ZM180-180h160v-160H180v160Zm440 0h160v-160H620v160Z\"/>\n",
              "  </svg>\n",
              "    </button>\n",
              "\n",
              "  <style>\n",
              "    .colab-df-container {\n",
              "      display:flex;\n",
              "      gap: 12px;\n",
              "    }\n",
              "\n",
              "    .colab-df-convert {\n",
              "      background-color: #E8F0FE;\n",
              "      border: none;\n",
              "      border-radius: 50%;\n",
              "      cursor: pointer;\n",
              "      display: none;\n",
              "      fill: #1967D2;\n",
              "      height: 32px;\n",
              "      padding: 0 0 0 0;\n",
              "      width: 32px;\n",
              "    }\n",
              "\n",
              "    .colab-df-convert:hover {\n",
              "      background-color: #E2EBFA;\n",
              "      box-shadow: 0px 1px 2px rgba(60, 64, 67, 0.3), 0px 1px 3px 1px rgba(60, 64, 67, 0.15);\n",
              "      fill: #174EA6;\n",
              "    }\n",
              "\n",
              "    .colab-df-buttons div {\n",
              "      margin-bottom: 4px;\n",
              "    }\n",
              "\n",
              "    [theme=dark] .colab-df-convert {\n",
              "      background-color: #3B4455;\n",
              "      fill: #D2E3FC;\n",
              "    }\n",
              "\n",
              "    [theme=dark] .colab-df-convert:hover {\n",
              "      background-color: #434B5C;\n",
              "      box-shadow: 0px 1px 3px 1px rgba(0, 0, 0, 0.15);\n",
              "      filter: drop-shadow(0px 1px 2px rgba(0, 0, 0, 0.3));\n",
              "      fill: #FFFFFF;\n",
              "    }\n",
              "  </style>\n",
              "\n",
              "    <script>\n",
              "      const buttonEl =\n",
              "        document.querySelector('#df-359168f9-b5ed-4fb0-9bf2-b5f8aa9839a4 button.colab-df-convert');\n",
              "      buttonEl.style.display =\n",
              "        google.colab.kernel.accessAllowed ? 'block' : 'none';\n",
              "\n",
              "      async function convertToInteractive(key) {\n",
              "        const element = document.querySelector('#df-359168f9-b5ed-4fb0-9bf2-b5f8aa9839a4');\n",
              "        const dataTable =\n",
              "          await google.colab.kernel.invokeFunction('convertToInteractive',\n",
              "                                                    [key], {});\n",
              "        if (!dataTable) return;\n",
              "\n",
              "        const docLinkHtml = 'Like what you see? Visit the ' +\n",
              "          '<a target=\"_blank\" href=https://colab.research.google.com/notebooks/data_table.ipynb>data table notebook</a>'\n",
              "          + ' to learn more about interactive tables.';\n",
              "        element.innerHTML = '';\n",
              "        dataTable['output_type'] = 'display_data';\n",
              "        await google.colab.output.renderOutput(dataTable, element);\n",
              "        const docLink = document.createElement('div');\n",
              "        docLink.innerHTML = docLinkHtml;\n",
              "        element.appendChild(docLink);\n",
              "      }\n",
              "    </script>\n",
              "  </div>\n",
              "\n",
              "\n",
              "    <div id=\"df-f76fbaca-a152-45c6-8e2a-f3571e9e5686\">\n",
              "      <button class=\"colab-df-quickchart\" onclick=\"quickchart('df-f76fbaca-a152-45c6-8e2a-f3571e9e5686')\"\n",
              "                title=\"Suggest charts\"\n",
              "                style=\"display:none;\">\n",
              "\n",
              "<svg xmlns=\"http://www.w3.org/2000/svg\" height=\"24px\"viewBox=\"0 0 24 24\"\n",
              "     width=\"24px\">\n",
              "    <g>\n",
              "        <path d=\"M19 3H5c-1.1 0-2 .9-2 2v14c0 1.1.9 2 2 2h14c1.1 0 2-.9 2-2V5c0-1.1-.9-2-2-2zM9 17H7v-7h2v7zm4 0h-2V7h2v10zm4 0h-2v-4h2v4z\"/>\n",
              "    </g>\n",
              "</svg>\n",
              "      </button>\n",
              "\n",
              "<style>\n",
              "  .colab-df-quickchart {\n",
              "      --bg-color: #E8F0FE;\n",
              "      --fill-color: #1967D2;\n",
              "      --hover-bg-color: #E2EBFA;\n",
              "      --hover-fill-color: #174EA6;\n",
              "      --disabled-fill-color: #AAA;\n",
              "      --disabled-bg-color: #DDD;\n",
              "  }\n",
              "\n",
              "  [theme=dark] .colab-df-quickchart {\n",
              "      --bg-color: #3B4455;\n",
              "      --fill-color: #D2E3FC;\n",
              "      --hover-bg-color: #434B5C;\n",
              "      --hover-fill-color: #FFFFFF;\n",
              "      --disabled-bg-color: #3B4455;\n",
              "      --disabled-fill-color: #666;\n",
              "  }\n",
              "\n",
              "  .colab-df-quickchart {\n",
              "    background-color: var(--bg-color);\n",
              "    border: none;\n",
              "    border-radius: 50%;\n",
              "    cursor: pointer;\n",
              "    display: none;\n",
              "    fill: var(--fill-color);\n",
              "    height: 32px;\n",
              "    padding: 0;\n",
              "    width: 32px;\n",
              "  }\n",
              "\n",
              "  .colab-df-quickchart:hover {\n",
              "    background-color: var(--hover-bg-color);\n",
              "    box-shadow: 0 1px 2px rgba(60, 64, 67, 0.3), 0 1px 3px 1px rgba(60, 64, 67, 0.15);\n",
              "    fill: var(--button-hover-fill-color);\n",
              "  }\n",
              "\n",
              "  .colab-df-quickchart-complete:disabled,\n",
              "  .colab-df-quickchart-complete:disabled:hover {\n",
              "    background-color: var(--disabled-bg-color);\n",
              "    fill: var(--disabled-fill-color);\n",
              "    box-shadow: none;\n",
              "  }\n",
              "\n",
              "  .colab-df-spinner {\n",
              "    border: 2px solid var(--fill-color);\n",
              "    border-color: transparent;\n",
              "    border-bottom-color: var(--fill-color);\n",
              "    animation:\n",
              "      spin 1s steps(1) infinite;\n",
              "  }\n",
              "\n",
              "  @keyframes spin {\n",
              "    0% {\n",
              "      border-color: transparent;\n",
              "      border-bottom-color: var(--fill-color);\n",
              "      border-left-color: var(--fill-color);\n",
              "    }\n",
              "    20% {\n",
              "      border-color: transparent;\n",
              "      border-left-color: var(--fill-color);\n",
              "      border-top-color: var(--fill-color);\n",
              "    }\n",
              "    30% {\n",
              "      border-color: transparent;\n",
              "      border-left-color: var(--fill-color);\n",
              "      border-top-color: var(--fill-color);\n",
              "      border-right-color: var(--fill-color);\n",
              "    }\n",
              "    40% {\n",
              "      border-color: transparent;\n",
              "      border-right-color: var(--fill-color);\n",
              "      border-top-color: var(--fill-color);\n",
              "    }\n",
              "    60% {\n",
              "      border-color: transparent;\n",
              "      border-right-color: var(--fill-color);\n",
              "    }\n",
              "    80% {\n",
              "      border-color: transparent;\n",
              "      border-right-color: var(--fill-color);\n",
              "      border-bottom-color: var(--fill-color);\n",
              "    }\n",
              "    90% {\n",
              "      border-color: transparent;\n",
              "      border-bottom-color: var(--fill-color);\n",
              "    }\n",
              "  }\n",
              "</style>\n",
              "\n",
              "      <script>\n",
              "        async function quickchart(key) {\n",
              "          const quickchartButtonEl =\n",
              "            document.querySelector('#' + key + ' button');\n",
              "          quickchartButtonEl.disabled = true;  // To prevent multiple clicks.\n",
              "          quickchartButtonEl.classList.add('colab-df-spinner');\n",
              "          try {\n",
              "            const charts = await google.colab.kernel.invokeFunction(\n",
              "                'suggestCharts', [key], {});\n",
              "          } catch (error) {\n",
              "            console.error('Error during call to suggestCharts:', error);\n",
              "          }\n",
              "          quickchartButtonEl.classList.remove('colab-df-spinner');\n",
              "          quickchartButtonEl.classList.add('colab-df-quickchart-complete');\n",
              "        }\n",
              "        (() => {\n",
              "          let quickchartButtonEl =\n",
              "            document.querySelector('#df-f76fbaca-a152-45c6-8e2a-f3571e9e5686 button');\n",
              "          quickchartButtonEl.style.display =\n",
              "            google.colab.kernel.accessAllowed ? 'block' : 'none';\n",
              "        })();\n",
              "      </script>\n",
              "    </div>\n",
              "\n",
              "    </div>\n",
              "  </div>\n"
            ],
            "application/vnd.google.colaboratory.intrinsic+json": {
              "type": "dataframe",
              "variable_name": "df_train",
              "summary": "{\n  \"name\": \"df_train\",\n  \"rows\": 83986,\n  \"fields\": [\n    {\n      \"column\": \"channel1\",\n      \"properties\": {\n        \"dtype\": \"number\",\n        \"std\": 0.3144366616088016,\n        \"min\": -2.7132322963012445,\n        \"max\": 2.2484325743591027,\n        \"num_unique_values\": 83172,\n        \"samples\": [\n          -0.1692548704863606,\n          0.21226678701124543,\n          0.37235127824578773\n        ],\n        \"semantic_type\": \"\",\n        \"description\": \"\"\n      }\n    },\n    {\n      \"column\": \"channel2\",\n      \"properties\": {\n        \"dtype\": \"number\",\n        \"std\": 0.24045098120117872,\n        \"min\": -2.7845232915300953,\n        \"max\": 2.983012812868305,\n        \"num_unique_values\": 82841,\n        \"samples\": [\n          0.9699211961696137,\n          0.04937640710675038,\n          -0.027739217705152343\n        ],\n        \"semantic_type\": \"\",\n        \"description\": \"\"\n      }\n    },\n    {\n      \"column\": \"channel3\",\n      \"properties\": {\n        \"dtype\": \"number\",\n        \"std\": 0.28687680075133537,\n        \"min\": -2.9891867244838046,\n        \"max\": 2.999523634111676,\n        \"num_unique_values\": 82673,\n        \"samples\": [\n          0.2609027856896876,\n          0.13323080106718904,\n          0.2838288900856775\n        ],\n        \"semantic_type\": \"\",\n        \"description\": \"\"\n      }\n    },\n    {\n      \"column\": \"channel4\",\n      \"properties\": {\n        \"dtype\": \"number\",\n        \"std\": 0.26108602810240267,\n        \"min\": -2.9914705187851696,\n        \"max\": 2.961735134566026,\n        \"num_unique_values\": 83134,\n        \"samples\": [\n          -0.1191097114488173,\n          0.00487887565748589,\n          -0.33064619785263294\n        ],\n        \"semantic_type\": \"\",\n        \"description\": \"\"\n      }\n    },\n    {\n      \"column\": \"acc1\",\n      \"properties\": {\n        \"dtype\": \"number\",\n        \"std\": 0.025173807865334553,\n        \"min\": 0.912,\n        \"max\": 1.008,\n        \"num_unique_values\": 7,\n        \"samples\": [\n          0.912,\n          0.944,\n          0.992\n        ],\n        \"semantic_type\": \"\",\n        \"description\": \"\"\n      }\n    },\n    {\n      \"column\": \"acc2\",\n      \"properties\": {\n        \"dtype\": \"number\",\n        \"std\": 0.010130648913785388,\n        \"min\": 0.08,\n        \"max\": 0.128,\n        \"num_unique_values\": 4,\n        \"samples\": [\n          0.128,\n          0.08,\n          0.112\n        ],\n        \"semantic_type\": \"\",\n        \"description\": \"\"\n      }\n    },\n    {\n      \"column\": \"acc3\",\n      \"properties\": {\n        \"dtype\": \"number\",\n        \"std\": 0.06328460374933807,\n        \"min\": -0.464,\n        \"max\": 0.768,\n        \"num_unique_values\": 18,\n        \"samples\": [\n          -0.464,\n          -0.416,\n          -0.336\n        ],\n        \"semantic_type\": \"\",\n        \"description\": \"\"\n      }\n    },\n    {\n      \"column\": \"time_std\",\n      \"properties\": {\n        \"dtype\": \"category\",\n        \"num_unique_values\": 40441,\n        \"samples\": [\n          \" 09:00:59.730\",\n          \" 08:57:35.911\",\n          \" 08:57:20.041\"\n        ],\n        \"semantic_type\": \"\",\n        \"description\": \"\"\n      }\n    },\n    {\n      \"column\": \"timestamp\",\n      \"properties\": {\n        \"dtype\": \"number\",\n        \"std\": 121243.35390380537,\n        \"min\": 1583848470263.0,\n        \"max\": 1583848890240.0,\n        \"num_unique_values\": 40441,\n        \"samples\": [\n          1583848859730.0,\n          1583848655911.0,\n          1583848640041.0\n        ],\n        \"semantic_type\": \"\",\n        \"description\": \"\"\n      }\n    },\n    {\n      \"column\": \"seconds_from_start\",\n      \"properties\": {\n        \"dtype\": \"number\",\n        \"std\": 121.24335390380483,\n        \"min\": 0.0,\n        \"max\": 419.977,\n        \"num_unique_values\": 40441,\n        \"samples\": [\n          389.467,\n          185.648,\n          169.778\n        ],\n        \"semantic_type\": \"\",\n        \"description\": \"\"\n      }\n    },\n    {\n      \"column\": \"y_labels\",\n      \"properties\": {\n        \"dtype\": \"number\",\n        \"std\": 0.49488319483686494,\n        \"min\": 0.0,\n        \"max\": 1.0,\n        \"num_unique_values\": 2,\n        \"samples\": [\n          1.0,\n          0.0\n        ],\n        \"semantic_type\": \"\",\n        \"description\": \"\"\n      }\n    }\n  ]\n}"
            }
          },
          "metadata": {},
          "execution_count": 81
        }
      ],
      "source": [
        "df_train.head()"
      ]
    },
    {
      "cell_type": "code",
      "execution_count": 82,
      "metadata": {
        "id": "BcS6wrCXtXLV",
        "colab": {
          "base_uri": "https://localhost:8080/",
          "height": 185,
          "referenced_widgets": [
            "6ae697997cab44e5af78595aae3097d2",
            "01211c04196d4b22a21048f1b8bd05b0",
            "bc1577ed7bcd47b08dce24c5d80c9517",
            "70ab7ef5d03c473f8cf440fd3aa03a8f",
            "73bd3f3b230e4425a4f07bb6d2272594",
            "982e84bce464491abe57234685a76d62",
            "c50c688453c74471a7e04327d75601b3",
            "c07a3dd9ca92490697b7deaeb15c3036",
            "77219ca636614bf0ba17309258022972",
            "8df9d8baf5e34321abc24e90a1150b3e",
            "0c63391b355241d080ae0560e6482324",
            "ae5b2b56f7e24af6b3927b3c9f05d615",
            "ff5c38708dde4462b8919ab70b9d688b",
            "fcbbc0453579479fb99783c72311e202",
            "5116e796cee545848327b2bd8626f799",
            "5e06321820084c0386012ad4e12b3564",
            "ec0841e4356d427e9de99f7a2d6d0aa1",
            "49964f564df24251afce99debb5ce328",
            "9adc0c1f7018408689605666dae40e6c",
            "e91d0fc1a2c9448e9af1ae851ab7935b",
            "066b431173f84a20bb9e0ea0d2beda91",
            "d88f5ebb68dd4d60b7529ed1890f4b13"
          ]
        },
        "outputId": "866a5f25-2179-4075-aaa0-377a022542b2"
      },
      "outputs": [
        {
          "output_type": "stream",
          "name": "stderr",
          "text": [
            "<ipython-input-82-fe3449376fee>:8: TqdmDeprecationWarning: This function will be removed in tqdm==5.0.0\n",
            "Please use `tqdm.notebook.tqdm` instead of `tqdm.tqdm_notebook`\n",
            "  for i in tqdm_notebook(np.arange(0,df_train.shape[0]-window_size,stride)):\n"
          ]
        },
        {
          "output_type": "display_data",
          "data": {
            "text/plain": [
              "  0%|          | 0/4197 [00:00<?, ?it/s]"
            ],
            "application/vnd.jupyter.widget-view+json": {
              "version_major": 2,
              "version_minor": 0,
              "model_id": "6ae697997cab44e5af78595aae3097d2"
            }
          },
          "metadata": {}
        },
        {
          "output_type": "stream",
          "name": "stderr",
          "text": [
            "<ipython-input-82-fe3449376fee>:26: TqdmDeprecationWarning: This function will be removed in tqdm==5.0.0\n",
            "Please use `tqdm.notebook.tqdm` instead of `tqdm.tqdm_notebook`\n",
            "  for i in tqdm_notebook(np.arange(0,df_test.shape[0]-window_size,stride)):\n"
          ]
        },
        {
          "output_type": "display_data",
          "data": {
            "text/plain": [
              "  0%|          | 0/2109 [00:00<?, ?it/s]"
            ],
            "application/vnd.jupyter.widget-view+json": {
              "version_major": 2,
              "version_minor": 0,
              "model_id": "ae5b2b56f7e24af6b3927b3c9f05d615"
            }
          },
          "metadata": {}
        }
      ],
      "source": [
        "from tqdm import tqdm_notebook\n",
        "\n",
        "window_size = 50\n",
        "stride=20\n",
        "\n",
        "df_class_train = np.zeros((int(df_train.shape[0]/stride),window_size+1,4))\n",
        "c=0\n",
        "for i in tqdm_notebook(np.arange(0,df_train.shape[0]-window_size,stride)):\n",
        "    df_class_train[c,0:window_size,0] = df_train['channel1'].iloc[i:i+window_size]\n",
        "    df_class_train[c,0:window_size,1] = df_train['channel2'].iloc[i:i+window_size]\n",
        "    df_class_train[c,0:window_size,2] = df_train['channel3'].iloc[i:i+window_size]\n",
        "    df_class_train[c,0:window_size,3] = df_train['channel4'].iloc[i:i+window_size]\n",
        "\n",
        "    ylabs = df_train['y_labels'].iloc[i:i+window_size]\n",
        "    ones=ylabs[ylabs==1]\n",
        "    zeros=ylabs[ylabs==0]\n",
        "\n",
        "    if ones.shape[0]>zeros.shape[0]:\n",
        "        df_class_train[c,-1,:] = 1\n",
        "    else:\n",
        "        df_class_train[c,-1,:] = 0\n",
        "    c+=1\n",
        "\n",
        "df_class_test = np.zeros((int(df_test.shape[0]/stride),window_size+1,4))\n",
        "c=0\n",
        "for i in tqdm_notebook(np.arange(0,df_test.shape[0]-window_size,stride)):\n",
        "    df_class_test[c,0:window_size,0] = df_test['channel1'].iloc[i:i+window_size]\n",
        "    df_class_test[c,0:window_size,1] = df_test['channel2'].iloc[i:i+window_size]\n",
        "    df_class_test[c,0:window_size,2] = df_test['channel3'].iloc[i:i+window_size]\n",
        "    df_class_test[c,0:window_size,3] = df_test['channel4'].iloc[i:i+window_size]\n",
        "\n",
        "    ylabs = df_test['y_labels'].iloc[i:i+window_size]\n",
        "    ones=ylabs[ylabs==1]\n",
        "    zeros=ylabs[ylabs==0]\n",
        "\n",
        "    if ones.shape[0]>zeros.shape[0]:\n",
        "        df_class_test[c,-1,:] = 1\n",
        "    else:\n",
        "        df_class_test[c,-1,:] = 0\n",
        "    c+=1\n"
      ]
    },
    {
      "cell_type": "markdown",
      "metadata": {
        "id": "MH0V5rmZtXLX"
      },
      "source": [
        "Remove NaN rows"
      ]
    },
    {
      "cell_type": "code",
      "execution_count": null,
      "metadata": {
        "id": "QDXjbw7ztXLX"
      },
      "outputs": [],
      "source": [
        "df_class_train = df_class_train[~np.isnan(df_class_train[:,:-1,0]).any(axis=1),:,:]\n",
        "df_class_train = df_class_train[~np.isnan(df_class_train[:,:-1,1]).any(axis=1),:,:]\n",
        "df_class_train = df_class_train[~np.isnan(df_class_train[:,:-1,2]).any(axis=1),:,:]\n",
        "df_class_train = df_class_train[~np.isnan(df_class_train[:,:-1,3]).any(axis=1),:,:]\n",
        "\n",
        "df_class_test = df_class_test[~np.isnan(df_class_test[:,:-1,0]).any(axis=1),:,:]\n",
        "df_class_test = df_class_test[~np.isnan(df_class_test[:,:-1,1]).any(axis=1),:,:]\n",
        "df_class_test = df_class_test[~np.isnan(df_class_test[:,:-1,2]).any(axis=1),:,:]\n",
        "df_class_test = df_class_test[~np.isnan(df_class_test[:,:-1,3]).any(axis=1),:,:]"
      ]
    },
    {
      "cell_type": "code",
      "execution_count": null,
      "metadata": {
        "id": "yf6EbISBtXLY",
        "colab": {
          "base_uri": "https://localhost:8080/"
        },
        "outputId": "1da3c0f5-a8e5-47e4-dfb9-73a31be9362c"
      },
      "outputs": [
        {
          "output_type": "execute_result",
          "data": {
            "text/plain": [
              "((4061, 51, 4), (2064, 51, 4))"
            ]
          },
          "metadata": {},
          "execution_count": 30
        }
      ],
      "source": [
        "df_class_train.shape,df_class_test.shape"
      ]
    },
    {
      "cell_type": "markdown",
      "metadata": {
        "id": "p1kpY8b2tXLZ"
      },
      "source": [
        "# Feature engineering\n",
        "\n",
        "Here I manually engineer some features and try some basic models on that transformed data."
      ]
    },
    {
      "cell_type": "code",
      "execution_count": null,
      "metadata": {
        "id": "g0I0uGlctXLa",
        "colab": {
          "base_uri": "https://localhost:8080/"
        },
        "outputId": "55bb623e-122d-451d-a4ac-edfd8f26333b"
      },
      "outputs": [
        {
          "output_type": "execute_result",
          "data": {
            "text/plain": [
              "(4061, 51, 4)"
            ]
          },
          "metadata": {},
          "execution_count": 31
        }
      ],
      "source": [
        "df_class_train.shape"
      ]
    },
    {
      "cell_type": "code",
      "execution_count": null,
      "metadata": {
        "id": "gF1kKXdCtXLb"
      },
      "outputs": [],
      "source": [
        "import scipy\n",
        "################ TRAIN #######################\n",
        "X=np.mean(df_class_train[:,:-1,:],axis=1)\n",
        "Y=np.var(df_class_train[:,:-1,:],axis=1)\n",
        "Z=scipy.stats.skew(df_class_train[:,:-1,:],axis=1)\n",
        "W=scipy.stats.kurtosis(df_class_train[:,:-1,:],axis=1)\n",
        "\n",
        "ds = np.concatenate((X,Y,Z,W,df_class_train[:,-1,0:1]),axis=1)\n",
        "np.random.shuffle(ds)\n",
        "\n",
        "df_feats_train = pd.DataFrame(ds,columns=['meanch1','meanch2','meanch3','meanch4',\\\n",
        "                                    'varch1','varch2','varch3','varch4',\\\n",
        "                                    'skewch1','skewch2','skewch3','skewch4',\\\n",
        "                                    'kurtch1','kurtch2','kurtch3','kurtch4','output'])\n",
        "################ TEST #######################\n",
        "X=np.mean(df_class_test[:,:-1,:],axis=1)\n",
        "Y=np.var(df_class_test[:,:-1,:],axis=1)\n",
        "Z=scipy.stats.skew(df_class_test[:,:-1,:],axis=1)\n",
        "W=scipy.stats.kurtosis(df_class_test[:,:-1,:],axis=1)\n",
        "\n",
        "ds = np.concatenate((X,Y,Z,W,df_class_test[:,-1,0:1]),axis=1)\n",
        "np.random.shuffle(ds)\n",
        "\n",
        "df_feats_test = pd.DataFrame(ds,columns=['meanch1','meanch2','meanch3','meanch4',\\\n",
        "                                    'varch1','varch2','varch3','varch4',\\\n",
        "                                    'skewch1','skewch2','skewch3','skewch4',\\\n",
        "                                    'kurtch1','kurtch2','kurtch3','kurtch4','output'])"
      ]
    },
    {
      "cell_type": "markdown",
      "source": [
        "Question 8. What are the features that were manually engineered? Describe them briefly. (hint: X,Y, Z, W)? In your own words, describe feature engineering."
      ],
      "metadata": {
        "id": "BLN4kvtvl1hJ"
      }
    },
    {
      "cell_type": "markdown",
      "source": [
        "Answer:\n",
        "\n",
        "In the code, the manually engineered features include the mean (X), variance (Y), skewness (Z), and kurtosis (W) of the signal across time for each of the four channels. The mean captures the average signal level, variance reflects how much the signal fluctuates, skewness describes the asymmetry of the signal distribution, and kurtosis indicates the presence of outliers or how peaked the distribution is.\n",
        "\n",
        "Feature engineering is the process of creating meaningful features from raw data using domain knowledge, helping machine learning models learn better by emphasizing important patterns or reducing noise."
      ],
      "metadata": {
        "id": "iTZQMLFYRqfQ"
      }
    },
    {
      "cell_type": "code",
      "execution_count": null,
      "metadata": {
        "id": "cbgfCauDtXLc",
        "colab": {
          "base_uri": "https://localhost:8080/"
        },
        "outputId": "84f5a7d0-bacd-4836-f99f-696a408fa75b"
      },
      "outputs": [
        {
          "output_type": "stream",
          "name": "stderr",
          "text": [
            "<ipython-input-31-da260567845c>:34: DataConversionWarning: A column-vector y was passed when a 1d array was expected. Please change the shape of y to (n_samples,), for example using ravel().\n",
            "  rf.fit(X_train,y_train)\n"
          ]
        },
        {
          "output_type": "stream",
          "name": "stdout",
          "text": [
            "[[662 234]\n",
            " [616 551]]\n",
            "[[626 270]\n",
            " [558 609]]\n"
          ]
        },
        {
          "output_type": "stream",
          "name": "stderr",
          "text": [
            "/usr/local/lib/python3.10/dist-packages/sklearn/utils/validation.py:1143: DataConversionWarning: A column-vector y was passed when a 1d array was expected. Please change the shape of y to (n_samples, ), for example using ravel().\n",
            "  y = column_or_1d(y, warn=True)\n"
          ]
        }
      ],
      "source": [
        "from sklearn.ensemble import RandomForestClassifier\n",
        "from sklearn.linear_model import LogisticRegression\n",
        "from sklearn.model_selection import train_test_split\n",
        "from sklearn.metrics import confusion_matrix\n",
        "from sklearn.decomposition import PCA\n",
        "\n",
        "rf = RandomForestClassifier()\n",
        "lr = LogisticRegression()\n",
        "pca = PCA()\n",
        "\n",
        "  # get training Data\n",
        "X_train = df_feats_train.loc[:, df_feats_train.columns != 'output']\n",
        "y_train = df_feats_train.loc[:, df_feats_train.columns == 'output']\n",
        "# Remove NaNs while maintaining consistent number of samples of both x and y\n",
        "df_merged = pd.merge(X_train, y_train, left_index=True, right_index=True) # Merge X_train and y_train into a single DataFrame\n",
        "df_merged.dropna(inplace=True) # Delete any rows that contain NaNs\n",
        "# Separate X_train and y_train again\n",
        "X_train = df_merged.loc[:, df_merged.columns != 'output']\n",
        "y_train = df_merged.loc[:, df_merged.columns == 'output']\n",
        "\n",
        "\n",
        "  # get testing data\n",
        "X_test = df_feats_test.loc[:, df_feats_test.columns != 'output']\n",
        "y_test = df_feats_test.loc[:, df_feats_test.columns == 'output']\n",
        "# Remove NaNs while maintaining consistent number of samples of both x and y\n",
        "df_merged = pd.merge(X_test, y_test, left_index=True, right_index=True) # Merge X_train and y_train into a single DataFrame\n",
        "df_merged.dropna(inplace=True) # Delete any rows that contain NaNs\n",
        "# Separate X_train and y_train again\n",
        "X_test = df_merged.loc[:, df_merged.columns != 'output']\n",
        "y_test = df_merged.loc[:, df_merged.columns == 'output']\n",
        "\n",
        "#X_train, X_test, y_train, y_test = train_test_split(X, Y, test_size=0.33, random_state=212) # older method\n",
        "\n",
        "rf.fit(X_train,y_train)\n",
        "lr.fit(X_train,y_train)\n",
        "pca.fit(X_train,y_train)\n",
        "\n",
        "yhat_rf = rf.predict(X_test)\n",
        "yhat_lr = lr.predict(X_test)\n",
        "\n",
        "\n",
        "print(confusion_matrix(y_test,yhat_rf))\n",
        "print(confusion_matrix(y_test,yhat_lr))"
      ]
    },
    {
      "cell_type": "markdown",
      "source": [
        "Question 10. What is Principal Component Analysis (PCA)? What does it tell us about our chosen features?"
      ],
      "metadata": {
        "id": "EWs-vAmjmXHN"
      }
    },
    {
      "cell_type": "markdown",
      "source": [
        "Answer:\n",
        "\n",
        "Principal Component Analysis (PCA) is a technique used to reduce the number of features in a dataset while keeping the most important information. It does this by identifying new variables—called principal components—that capture the most variation in the data. By analyzing these components, PCA helps reveal which features carry the most useful information, which ones may be redundant, and how many features are truly needed to understand the patterns in the data. This is especially useful when working with many related features, like EEG band powers, to simplify the analysis and improve model performance."
      ],
      "metadata": {
        "id": "g3Kx30io0tCz"
      }
    },
    {
      "cell_type": "code",
      "execution_count": null,
      "metadata": {
        "id": "32OYrVbrtXLd",
        "colab": {
          "base_uri": "https://localhost:8080/",
          "height": 1000
        },
        "outputId": "07dbbc61-7e3b-4dcb-cde0-fa2b96288dc6"
      },
      "outputs": [
        {
          "output_type": "display_data",
          "data": {
            "text/plain": [
              "<Figure size 1000x1500 with 1 Axes>"
            ],
            "image/png": "[encoded data removed]"
          },
          "metadata": {}
        }
      ],
      "source": [
        "plt.figure(figsize=(10,15))\n",
        "y_pos = np.arange(len(X_train.columns))\n",
        "plt.barh(y_pos, rf.feature_importances_)\n",
        "\n",
        "# Create names on the y-axis\n",
        "plt.yticks(y_pos, X_train.columns)\n",
        "plt.show()"
      ]
    },
    {
      "cell_type": "code",
      "execution_count": null,
      "metadata": {
        "id": "GrmgtYattXLe",
        "colab": {
          "base_uri": "https://localhost:8080/",
          "height": 286
        },
        "outputId": "678224d9-44f5-4942-99da-67f7c2751bb8"
      },
      "outputs": [
        {
          "output_type": "execute_result",
          "data": {
            "text/plain": [
              "<seaborn.axisgrid.PairGrid at 0x7d0c30b83400>"
            ]
          },
          "metadata": {},
          "execution_count": 33
        },
        {
          "output_type": "display_data",
          "data": {
            "text/plain": [
              "<Figure size 306.986x250 with 2 Axes>"
            ],
            "image/png": "[encoded data removed]"
          },
          "metadata": {}
        }
      ],
      "source": [
        "import seaborn as sns\n",
        "sns.pairplot(pd.concat((X_train[['meanch4']],y_train),axis=1),hue='output')"
      ]
    },
    {
      "cell_type": "code",
      "execution_count": null,
      "metadata": {
        "id": "gYD_afJwtXLf",
        "colab": {
          "base_uri": "https://localhost:8080/",
          "height": 449
        },
        "outputId": "3bc26286-a72c-41e6-e698-f738a3ca4fd8"
      },
      "outputs": [
        {
          "output_type": "display_data",
          "data": {
            "text/plain": [
              "<Figure size 640x480 with 1 Axes>"
            ],
            "image/png": "[encoded data removed]"
          },
          "metadata": {}
        }
      ],
      "source": [
        "sns.scatterplot(x='meanch4',y='varch2',hue='output',data=pd.concat((X_train,y_train),axis=1))\n",
        "plt.show()"
      ]
    },
    {
      "cell_type": "markdown",
      "source": [
        "Question 11. Based on the plot above, could the variance of channel2 be a good predictor? Why or why not? Could the mean of ch 4 be a good predictor? Why or why not?"
      ],
      "metadata": {
        "id": "0JrC29SBm7U-"
      }
    },
    {
      "cell_type": "code",
      "execution_count": null,
      "metadata": {
        "id": "OFDgDMgQtXLf"
      },
      "outputs": [],
      "source": [
        "def focal_loss(gamma=4, alpha=0.15):\n",
        "\n",
        "    gamma = float(gamma)\n",
        "    alpha = float(alpha)\n",
        "\n",
        "    def focal_loss_fixed(y_true, y_pred):\n",
        "        \"\"\"Focal loss for multi-classification\n",
        "        FL(p_t)=-alpha(1-p_t)^{gamma}ln(p_t)\n",
        "        Notice: y_pred is probability after softmax\n",
        "        gradient is d(Fl)/d(p_t) not d(Fl)/d(x) as described in paper\n",
        "        d(Fl)/d(p_t) * [p_t(1-p_t)] = d(Fl)/d(x)\n",
        "        Focal Loss for Dense Object Detection\n",
        "        https://arxiv.org/abs/1708.02002\n",
        "\n",
        "        Arguments:\n",
        "            y_true {tensor} -- ground truth labels, shape of [batch_size, num_cls]\n",
        "            y_pred {tensor} -- model's output, shape of [batch_size, num_cls]\n",
        "\n",
        "        Keyword Arguments:\n",
        "            gamma {float} -- (default: {2.0})\n",
        "            alpha {float} -- (default: {4.0})\n",
        "\n",
        "        Returns:\n",
        "            [tensor] -- loss.\n",
        "        \"\"\"\n",
        "        epsilon = 1.e-9\n",
        "        y_true = tf.convert_to_tensor(y_true, tf.float32)\n",
        "        y_pred = tf.convert_to_tensor(y_pred, tf.float32)\n",
        "\n",
        "        model_out = tf.add(y_pred, epsilon)\n",
        "        ce = tf.multiply(y_true, -tf.math.log(model_out))\n",
        "        weight = tf.multiply(y_true, tf.pow(tf.subtract(1., model_out), gamma))\n",
        "        fl = tf.multiply(alpha, tf.multiply(weight, ce))\n",
        "        reduced_fl = tf.reduce_max(fl, axis=1)\n",
        "        return tf.reduce_mean(reduced_fl)\n",
        "    return focal_loss_fixed\n",
        "\n",
        "# load the dataset, returns train and test X and y elements\n",
        "def load_dataset(dftrain,dftest):\n",
        "    trainX = dftrain[:,:-1,:]\n",
        "    trainy = dftrain[:,-1,0:1]\n",
        "\n",
        "    testX = dftest[:,:-1,:]\n",
        "    testy = dftest[:,-1,0:1]\n",
        "\n",
        "    shuff_idx = np.random.choice(np.arange(0,trainX.shape[0]),trainX.shape[0],replace=False)\n",
        "    trainX = trainX[shuff_idx,:,:]\n",
        "    trainy = trainy[shuff_idx]\n",
        "\n",
        "    shuff_idx = np.random.choice(np.arange(0,testX.shape[0]),testX.shape[0],replace=False)\n",
        "    testX = testX[shuff_idx,:,:]\n",
        "    testy = testy[shuff_idx]\n",
        "\n",
        "    trainy = to_categorical(trainy)\n",
        "    testy = to_categorical(testy)\n",
        "    print(trainX.shape, trainy.shape, testX.shape, testy.shape)\n",
        "    return trainX, trainy, testX, testy\n",
        "\n",
        "# fit and evaluate a model\n",
        "def evaluate_model(trainX, trainy, testX, testy):\n",
        "    verbose, epochs, batch_size = 1, 200, 32\n",
        "    n_timesteps, n_features, n_outputs = trainX.shape[1], trainX.shape[2], trainy.shape[1]\n",
        "    model = Sequential()\n",
        "    model.add(Conv1D(filters=64, kernel_size=3, activation='relu', input_shape=(n_timesteps,n_features)))\n",
        "    model.add(Conv1D(filters=64, kernel_size=3, activation='relu'))\n",
        "    model.add(Dropout(0.5))\n",
        "    model.add(MaxPooling1D(pool_size=2))\n",
        "    model.add(Flatten())\n",
        "    model.add(Dense(100, activation='relu'))\n",
        "    model.add(Dense(n_outputs, activation='softmax'))\n",
        "    model.compile(loss='binary_crossentropy', optimizer='adam', metrics=['accuracy'])\n",
        "    er = EarlyStopping(patience=10, min_delta=1e-4, monitor='val_accuracy')\n",
        "    # fit network\n",
        "    model.fit(trainX, trainy, epochs=epochs, batch_size=batch_size, verbose=verbose,\n",
        "              validation_split=0.15, callbacks=[er])\n",
        "    return model\n",
        "\n",
        "# fit and evaluate a model\n",
        "def evaluate_model2d(trainX, trainy, testX, testy):\n",
        "    verbose, epochs, batch_size = 1, 20, 32\n",
        "    n_timesteps, n_features, n_outputs = trainX.shape[1], trainX.shape[2], trainy.shape[1]\n",
        "    input_layer = Input(shape=(trainX.shape[1], trainX.shape[2], trainX.shape[3]))\n",
        "\n",
        "    # handle image dimensions ordering\n",
        "    if tf.keras.backend.image_data_format() == 'channels_first':\n",
        "        latent = Permute((3, 1, 2))(input_layer)\n",
        "    else:\n",
        "        latent = input_layer\n",
        "\n",
        "    # define the network architecture\n",
        "    latent = Conv2D(filters=32, kernel_size=(3, 3),\n",
        "                        activation='relu')(latent)\n",
        "    latent = Conv2D(filters=64, kernel_size=(3, 3),\n",
        "                        activation='relu')(latent)\n",
        "    latent = Dropout(0.5)(latent)\n",
        "    latent = MaxPooling2D(pool_size=(2, 2))(latent)\n",
        "    latent = Flatten()(latent)\n",
        "    latent = Dense(units=100, activation='relu')(latent)\n",
        "    output_layer = Dense(units=trainy.shape[1], activation='softmax')(latent)\n",
        "\n",
        "    model = Model(inputs=input_layer, outputs=output_layer)\n",
        "\n",
        "    model.compile(loss='binary_crossentropy', optimizer='adam', metrics=['accuracy'])\n",
        "    er = EarlyStopping(patience=10, min_delta=1e-4, monitor='val_accuracy')\n",
        "    # fit network\n",
        "    model.fit(trainX, trainy, epochs=epochs, batch_size=batch_size, verbose=verbose,\n",
        "              validation_split=0.15, callbacks=[er])\n",
        "    return model\n",
        "\n",
        "# summarize scores\n",
        "def summarize_results(scores):\n",
        "    print(scores)\n",
        "    m, s = mean(scores), std(scores)\n",
        "    print('Accuracy: %.3f%% (+/-%.3f)' % (m, s))\n",
        "\n",
        "# run an experiment\n",
        "def run_experiment():\n",
        "    # load data\n",
        "\n",
        "    trainX, trainy, testX, testy = load_dataset(df_class_train,df_class_test)\n",
        "    # repeat experiment\n",
        "    scores = list()\n",
        "\n",
        "    model = evaluate_model(trainX, trainy, testX, testy)\n",
        "\n",
        "    ypred = model.predict(testX)\n",
        "    class_preds = np.argmax(ypred, axis=-1)\n",
        "    testy = np.argmax(testy,axis=-1)\n",
        "\n",
        "    from sklearn.metrics import confusion_matrix\n",
        "    print(confusion_matrix(testy,class_preds))\n",
        "    return model"
      ]
    },
    {
      "cell_type": "code",
      "execution_count": null,
      "metadata": {
        "id": "ZZGuFs6ktXL2",
        "colab": {
          "base_uri": "https://localhost:8080/"
        },
        "outputId": "d600de88-e3ba-4f67-a328-f06c408c65a7"
      },
      "outputs": [
        {
          "output_type": "stream",
          "name": "stdout",
          "text": [
            "(4061, 50, 4) (4061, 2) (2064, 50, 4) (2064, 2)\n",
            "Epoch 1/200\n",
            "108/108 [==============================] - 3s 15ms/step - loss: 0.6337 - accuracy: 0.5949 - val_loss: 0.6141 - val_accuracy: 0.6262\n",
            "Epoch 2/200\n",
            "108/108 [==============================] - 1s 10ms/step - loss: 0.5960 - accuracy: 0.6505 - val_loss: 0.5737 - val_accuracy: 0.7049\n",
            "Epoch 3/200\n",
            "108/108 [==============================] - 1s 10ms/step - loss: 0.5691 - accuracy: 0.6879 - val_loss: 0.5660 - val_accuracy: 0.7016\n",
            "Epoch 4/200\n",
            "108/108 [==============================] - 1s 11ms/step - loss: 0.5434 - accuracy: 0.7065 - val_loss: 0.5286 - val_accuracy: 0.7148\n",
            "Epoch 5/200\n",
            "108/108 [==============================] - 1s 10ms/step - loss: 0.4997 - accuracy: 0.7372 - val_loss: 0.5253 - val_accuracy: 0.7443\n",
            "Epoch 6/200\n",
            "108/108 [==============================] - 1s 10ms/step - loss: 0.4775 - accuracy: 0.7627 - val_loss: 0.4578 - val_accuracy: 0.7852\n",
            "Epoch 7/200\n",
            "108/108 [==============================] - 1s 11ms/step - loss: 0.4223 - accuracy: 0.7951 - val_loss: 0.4359 - val_accuracy: 0.7984\n",
            "Epoch 8/200\n",
            "108/108 [==============================] - 1s 10ms/step - loss: 0.3904 - accuracy: 0.8148 - val_loss: 0.4103 - val_accuracy: 0.8230\n",
            "Epoch 9/200\n",
            "108/108 [==============================] - 1s 10ms/step - loss: 0.3735 - accuracy: 0.8311 - val_loss: 0.4841 - val_accuracy: 0.7623\n",
            "Epoch 10/200\n",
            "108/108 [==============================] - 1s 14ms/step - loss: 0.3587 - accuracy: 0.8464 - val_loss: 0.4169 - val_accuracy: 0.8131\n",
            "Epoch 11/200\n",
            "108/108 [==============================] - 2s 15ms/step - loss: 0.3228 - accuracy: 0.8635 - val_loss: 0.3561 - val_accuracy: 0.8525\n",
            "Epoch 12/200\n",
            "108/108 [==============================] - 1s 10ms/step - loss: 0.3157 - accuracy: 0.8667 - val_loss: 0.3907 - val_accuracy: 0.8098\n",
            "Epoch 13/200\n",
            "108/108 [==============================] - 1s 10ms/step - loss: 0.3028 - accuracy: 0.8711 - val_loss: 0.3894 - val_accuracy: 0.8295\n",
            "Epoch 14/200\n",
            "108/108 [==============================] - 1s 10ms/step - loss: 0.2794 - accuracy: 0.8847 - val_loss: 0.3713 - val_accuracy: 0.8557\n",
            "Epoch 15/200\n",
            "108/108 [==============================] - 1s 10ms/step - loss: 0.2631 - accuracy: 0.8884 - val_loss: 0.3339 - val_accuracy: 0.8574\n",
            "Epoch 16/200\n",
            "108/108 [==============================] - 1s 10ms/step - loss: 0.2587 - accuracy: 0.8893 - val_loss: 0.3296 - val_accuracy: 0.8705\n",
            "Epoch 17/200\n",
            "108/108 [==============================] - 1s 10ms/step - loss: 0.2403 - accuracy: 0.9038 - val_loss: 0.3473 - val_accuracy: 0.8557\n",
            "Epoch 18/200\n",
            "108/108 [==============================] - 1s 10ms/step - loss: 0.2313 - accuracy: 0.9061 - val_loss: 0.3540 - val_accuracy: 0.8639\n",
            "Epoch 19/200\n",
            "108/108 [==============================] - 1s 10ms/step - loss: 0.2252 - accuracy: 0.9076 - val_loss: 0.3343 - val_accuracy: 0.8754\n",
            "Epoch 20/200\n",
            "108/108 [==============================] - 1s 10ms/step - loss: 0.2196 - accuracy: 0.9087 - val_loss: 0.3079 - val_accuracy: 0.8787\n",
            "Epoch 21/200\n",
            "108/108 [==============================] - 2s 16ms/step - loss: 0.2159 - accuracy: 0.9113 - val_loss: 0.3310 - val_accuracy: 0.8705\n",
            "Epoch 22/200\n",
            "108/108 [==============================] - 1s 13ms/step - loss: 0.1774 - accuracy: 0.9305 - val_loss: 0.3200 - val_accuracy: 0.8820\n",
            "Epoch 23/200\n",
            "108/108 [==============================] - 1s 10ms/step - loss: 0.1793 - accuracy: 0.9313 - val_loss: 0.3942 - val_accuracy: 0.8311\n",
            "Epoch 24/200\n",
            "108/108 [==============================] - 1s 10ms/step - loss: 0.1805 - accuracy: 0.9223 - val_loss: 0.3525 - val_accuracy: 0.8508\n",
            "Epoch 25/200\n",
            "108/108 [==============================] - 1s 10ms/step - loss: 0.1622 - accuracy: 0.9377 - val_loss: 0.3344 - val_accuracy: 0.8590\n",
            "Epoch 26/200\n",
            "108/108 [==============================] - 1s 10ms/step - loss: 0.1565 - accuracy: 0.9363 - val_loss: 0.3262 - val_accuracy: 0.8787\n",
            "Epoch 27/200\n",
            "108/108 [==============================] - 1s 10ms/step - loss: 0.1515 - accuracy: 0.9406 - val_loss: 0.3736 - val_accuracy: 0.8492\n",
            "Epoch 28/200\n",
            "108/108 [==============================] - 1s 10ms/step - loss: 0.1711 - accuracy: 0.9328 - val_loss: 0.3303 - val_accuracy: 0.8836\n",
            "Epoch 29/200\n",
            "108/108 [==============================] - 1s 10ms/step - loss: 0.1507 - accuracy: 0.9420 - val_loss: 0.3337 - val_accuracy: 0.8754\n",
            "Epoch 30/200\n",
            "108/108 [==============================] - 1s 10ms/step - loss: 0.1405 - accuracy: 0.9447 - val_loss: 0.3393 - val_accuracy: 0.8820\n",
            "Epoch 31/200\n",
            "108/108 [==============================] - 1s 12ms/step - loss: 0.1244 - accuracy: 0.9507 - val_loss: 0.3150 - val_accuracy: 0.8885\n",
            "Epoch 32/200\n",
            "108/108 [==============================] - 2s 16ms/step - loss: 0.1299 - accuracy: 0.9464 - val_loss: 0.3048 - val_accuracy: 0.8852\n",
            "Epoch 33/200\n",
            "108/108 [==============================] - 1s 11ms/step - loss: 0.1179 - accuracy: 0.9560 - val_loss: 0.3195 - val_accuracy: 0.8787\n",
            "Epoch 34/200\n",
            "108/108 [==============================] - 1s 10ms/step - loss: 0.1274 - accuracy: 0.9487 - val_loss: 0.3194 - val_accuracy: 0.8803\n",
            "Epoch 35/200\n",
            "108/108 [==============================] - 1s 10ms/step - loss: 0.1121 - accuracy: 0.9618 - val_loss: 0.3231 - val_accuracy: 0.8754\n",
            "Epoch 36/200\n",
            "108/108 [==============================] - 1s 10ms/step - loss: 0.1051 - accuracy: 0.9583 - val_loss: 0.3512 - val_accuracy: 0.8803\n",
            "Epoch 37/200\n",
            "108/108 [==============================] - 1s 10ms/step - loss: 0.1028 - accuracy: 0.9609 - val_loss: 0.3174 - val_accuracy: 0.8721\n",
            "Epoch 38/200\n",
            "108/108 [==============================] - 1s 10ms/step - loss: 0.0863 - accuracy: 0.9675 - val_loss: 0.3344 - val_accuracy: 0.8754\n",
            "Epoch 39/200\n",
            "108/108 [==============================] - 1s 10ms/step - loss: 0.1029 - accuracy: 0.9583 - val_loss: 0.3970 - val_accuracy: 0.8623\n",
            "Epoch 40/200\n",
            "108/108 [==============================] - 1s 10ms/step - loss: 0.0915 - accuracy: 0.9675 - val_loss: 0.3407 - val_accuracy: 0.8672\n",
            "Epoch 41/200\n",
            "108/108 [==============================] - 1s 10ms/step - loss: 0.0842 - accuracy: 0.9693 - val_loss: 0.3761 - val_accuracy: 0.8738\n",
            "65/65 [==============================] - 0s 5ms/step\n",
            "[[529 368]\n",
            " [220 947]]\n"
          ]
        }
      ],
      "source": [
        "model = run_experiment()"
      ]
    },
    {
      "cell_type": "markdown",
      "source": [
        "Question 12. Compute the 'accuracy' of this model (true positives + true negatives)/ (total). Is this model (CNN) more accurate than the previous models (LogReg, RF, MLP)? Were the manually engineered features better?"
      ],
      "metadata": {
        "id": "vvtsAw8HnTiz"
      }
    },
    {
      "cell_type": "code",
      "execution_count": null,
      "metadata": {
        "id": "8_7PiK_WtXL4",
        "outputId": "a8ba5153-36d0-4e58-f868-eb73c87f8432",
        "colab": {
          "base_uri": "https://localhost:8080/",
          "height": 448
        }
      },
      "outputs": [
        {
          "output_type": "execute_result",
          "data": {
            "text/plain": [
              "[<matplotlib.lines.Line2D at 0x7d0c2019c850>]"
            ]
          },
          "metadata": {},
          "execution_count": 37
        },
        {
          "output_type": "display_data",
          "data": {
            "text/plain": [
              "<Figure size 640x480 with 1 Axes>"
            ],
            "image/png": "[encoded data removed]"
          },
          "metadata": {}
        }
      ],
      "source": [
        "%matplotlib inline\n",
        "plt.plot(df_class_test[0,:-1,0])\n",
        "plt.plot(df_class_test[0,:-1,1])\n",
        "plt.plot(df_class_test[0,:-1,2])\n",
        "plt.plot(df_class_test[0,:-1,3])"
      ]
    },
    {
      "cell_type": "markdown",
      "source": [
        "Question 13. Read & briefly summarize in your own words significant points of information from the following MATLAB EEGLab tutorials: https://eeglab.org/tutorials/\n",
        "\n",
        "Sections:\n",
        "5. Preprocess data - a. Filtering\n",
        "6. Reject artifacts - all sections a-d.\n",
        "8. Plot data - all sections a-e.\n",
        "\n",
        "***What did you learn from the EEGLab tutorials about EEG, Filtering, and Artifacts that you did not yet know?***\n",
        "\n",
        "(Suggested/Optional) Download & use the MATLAB EEGLab on the dataset used in this notebook to try EEGLab yourself and get a better understanding of the tutorials."
      ],
      "metadata": {
        "id": "7uRWBFi-00I6"
      }
    },
    {
      "cell_type": "markdown",
      "source": [
        "Section 5:\n",
        "\n",
        "Filtering data is important to ensure that both interferance, noise, and undesired data points are omited from the predictin process. This speeds up calculation and reduces error. To do this set up a series of high and low pass frequency filter cut offs, idealy sequentially in steps to reduce accidential data removal.\n",
        "\n",
        "Section 6:\n",
        "\n",
        "Rejecting artifacts involves sorting real life data, its not always useful or gathered in a way that is usable. This means getting rid of bad channels, bad data sections, and the implementation of automated sorting algorithims to assist in mass data analysis to save time and memory.\n",
        "\n",
        "Section 7:\n",
        "\n",
        "Plotting data is doem by sorting the filtered data into epochs, or ranges of valuable data you want to look at based on 'groundtruth' values from the experiment itslef, this invilves using sub-epochs and estabilshing a base line for the data.\n",
        "\n",
        "Things I learned:\n",
        "\n",
        "Well, for a start I learned about the sensitivity of the devices, with electrical signals on circuits we have to moniter the electromagnetic interferance of the component parts. An EEG can pick up signals from powerlines or the lines from the device itself, it also has to sort regular thought interferance as thinking can stimulate the brain in such a way that the data can be skewed."
      ],
      "metadata": {
        "id": "_b_k6d7KVGky"
      }
    }
  ],
  "metadata": {
    "colab": {
      "provenance": [],
      "include_colab_link": true
    },
    "kernelspec": {
      "display_name": "Python 3",
      "language": "python",
      "name": "python3"
    },
    "language_info": {
      "codemirror_mode": {
        "name": "ipython",
        "version": 3
      },
      "file_extension": ".py",
      "mimetype": "text/x-python",
      "name": "python",
      "nbconvert_exporter": "python",
      "pygments_lexer": "ipython3",
      "version": "3.6.4"
    },
    "widgets": {
      "application/vnd.jupyter.widget-state+json": {
        "6ae697997cab44e5af78595aae3097d2": {
          "model_module": "@jupyter-widgets/controls",
          "model_name": "HBoxModel",
          "model_module_version": "1.5.0",
          "state": {
            "_dom_classes": [],
            "_model_module": "@jupyter-widgets/controls",
            "_model_module_version": "1.5.0",
            "_model_name": "HBoxModel",
            "_view_count": null,
            "_view_module": "@jupyter-widgets/controls",
            "_view_module_version": "1.5.0",
            "_view_name": "HBoxView",
            "box_style": "",
            "children": [
              "IPY_MODEL_01211c04196d4b22a21048f1b8bd05b0",
              "IPY_MODEL_bc1577ed7bcd47b08dce24c5d80c9517",
              "IPY_MODEL_70ab7ef5d03c473f8cf440fd3aa03a8f"
            ],
            "layout": "IPY_MODEL_73bd3f3b230e4425a4f07bb6d2272594"
          }
        },
        "01211c04196d4b22a21048f1b8bd05b0": {
          "model_module": "@jupyter-widgets/controls",
          "model_name": "HTMLModel",
          "model_module_version": "1.5.0",
          "state": {
            "_dom_classes": [],
            "_model_module": "@jupyter-widgets/controls",
            "_model_module_version": "1.5.0",
            "_model_name": "HTMLModel",
            "_view_count": null,
            "_view_module": "@jupyter-widgets/controls",
            "_view_module_version": "1.5.0",
            "_view_name": "HTMLView",
            "description": "",
            "description_tooltip": null,
            "layout": "IPY_MODEL_982e84bce464491abe57234685a76d62",
            "placeholder": "​",
            "style": "IPY_MODEL_c50c688453c74471a7e04327d75601b3",
            "value": "100%"
          }
        },
        "bc1577ed7bcd47b08dce24c5d80c9517": {
          "model_module": "@jupyter-widgets/controls",
          "model_name": "FloatProgressModel",
          "model_module_version": "1.5.0",
          "state": {
            "_dom_classes": [],
            "_model_module": "@jupyter-widgets/controls",
            "_model_module_version": "1.5.0",
            "_model_name": "FloatProgressModel",
            "_view_count": null,
            "_view_module": "@jupyter-widgets/controls",
            "_view_module_version": "1.5.0",
            "_view_name": "ProgressView",
            "bar_style": "success",
            "description": "",
            "description_tooltip": null,
            "layout": "IPY_MODEL_c07a3dd9ca92490697b7deaeb15c3036",
            "max": 4197,
            "min": 0,
            "orientation": "horizontal",
            "style": "IPY_MODEL_77219ca636614bf0ba17309258022972",
            "value": 4197
          }
        },
        "70ab7ef5d03c473f8cf440fd3aa03a8f": {
          "model_module": "@jupyter-widgets/controls",
          "model_name": "HTMLModel",
          "model_module_version": "1.5.0",
          "state": {
            "_dom_classes": [],
            "_model_module": "@jupyter-widgets/controls",
            "_model_module_version": "1.5.0",
            "_model_name": "HTMLModel",
            "_view_count": null,
            "_view_module": "@jupyter-widgets/controls",
            "_view_module_version": "1.5.0",
            "_view_name": "HTMLView",
            "description": "",
            "description_tooltip": null,
            "layout": "IPY_MODEL_8df9d8baf5e34321abc24e90a1150b3e",
            "placeholder": "​",
            "style": "IPY_MODEL_0c63391b355241d080ae0560e6482324",
            "value": " 4197/4197 [00:02&lt;00:00, 1988.92it/s]"
          }
        },
        "73bd3f3b230e4425a4f07bb6d2272594": {
          "model_module": "@jupyter-widgets/base",
          "model_name": "LayoutModel",
          "model_module_version": "1.2.0",
          "state": {
            "_model_module": "@jupyter-widgets/base",
            "_model_module_version": "1.2.0",
            "_model_name": "LayoutModel",
            "_view_count": null,
            "_view_module": "@jupyter-widgets/base",
            "_view_module_version": "1.2.0",
            "_view_name": "LayoutView",
            "align_content": null,
            "align_items": null,
            "align_self": null,
            "border": null,
            "bottom": null,
            "display": null,
            "flex": null,
            "flex_flow": null,
            "grid_area": null,
            "grid_auto_columns": null,
            "grid_auto_flow": null,
            "grid_auto_rows": null,
            "grid_column": null,
            "grid_gap": null,
            "grid_row": null,
            "grid_template_areas": null,
            "grid_template_columns": null,
            "grid_template_rows": null,
            "height": null,
            "justify_content": null,
            "justify_items": null,
            "left": null,
            "margin": null,
            "max_height": null,
            "max_width": null,
            "min_height": null,
            "min_width": null,
            "object_fit": null,
            "object_position": null,
            "order": null,
            "overflow": null,
            "overflow_x": null,
            "overflow_y": null,
            "padding": null,
            "right": null,
            "top": null,
            "visibility": null,
            "width": null
          }
        },
        "982e84bce464491abe57234685a76d62": {
          "model_module": "@jupyter-widgets/base",
          "model_name": "LayoutModel",
          "model_module_version": "1.2.0",
          "state": {
            "_model_module": "@jupyter-widgets/base",
            "_model_module_version": "1.2.0",
            "_model_name": "LayoutModel",
            "_view_count": null,
            "_view_module": "@jupyter-widgets/base",
            "_view_module_version": "1.2.0",
            "_view_name": "LayoutView",
            "align_content": null,
            "align_items": null,
            "align_self": null,
            "border": null,
            "bottom": null,
            "display": null,
            "flex": null,
            "flex_flow": null,
            "grid_area": null,
            "grid_auto_columns": null,
            "grid_auto_flow": null,
            "grid_auto_rows": null,
            "grid_column": null,
            "grid_gap": null,
            "grid_row": null,
            "grid_template_areas": null,
            "grid_template_columns": null,
            "grid_template_rows": null,
            "height": null,
            "justify_content": null,
            "justify_items": null,
            "left": null,
            "margin": null,
            "max_height": null,
            "max_width": null,
            "min_height": null,
            "min_width": null,
            "object_fit": null,
            "object_position": null,
            "order": null,
            "overflow": null,
            "overflow_x": null,
            "overflow_y": null,
            "padding": null,
            "right": null,
            "top": null,
            "visibility": null,
            "width": null
          }
        },
        "c50c688453c74471a7e04327d75601b3": {
          "model_module": "@jupyter-widgets/controls",
          "model_name": "DescriptionStyleModel",
          "model_module_version": "1.5.0",
          "state": {
            "_model_module": "@jupyter-widgets/controls",
            "_model_module_version": "1.5.0",
            "_model_name": "DescriptionStyleModel",
            "_view_count": null,
            "_view_module": "@jupyter-widgets/base",
            "_view_module_version": "1.2.0",
            "_view_name": "StyleView",
            "description_width": ""
          }
        },
        "c07a3dd9ca92490697b7deaeb15c3036": {
          "model_module": "@jupyter-widgets/base",
          "model_name": "LayoutModel",
          "model_module_version": "1.2.0",
          "state": {
            "_model_module": "@jupyter-widgets/base",
            "_model_module_version": "1.2.0",
            "_model_name": "LayoutModel",
            "_view_count": null,
            "_view_module": "@jupyter-widgets/base",
            "_view_module_version": "1.2.0",
            "_view_name": "LayoutView",
            "align_content": null,
            "align_items": null,
            "align_self": null,
            "border": null,
            "bottom": null,
            "display": null,
            "flex": null,
            "flex_flow": null,
            "grid_area": null,
            "grid_auto_columns": null,
            "grid_auto_flow": null,
            "grid_auto_rows": null,
            "grid_column": null,
            "grid_gap": null,
            "grid_row": null,
            "grid_template_areas": null,
            "grid_template_columns": null,
            "grid_template_rows": null,
            "height": null,
            "justify_content": null,
            "justify_items": null,
            "left": null,
            "margin": null,
            "max_height": null,
            "max_width": null,
            "min_height": null,
            "min_width": null,
            "object_fit": null,
            "object_position": null,
            "order": null,
            "overflow": null,
            "overflow_x": null,
            "overflow_y": null,
            "padding": null,
            "right": null,
            "top": null,
            "visibility": null,
            "width": null
          }
        },
        "77219ca636614bf0ba17309258022972": {
          "model_module": "@jupyter-widgets/controls",
          "model_name": "ProgressStyleModel",
          "model_module_version": "1.5.0",
          "state": {
            "_model_module": "@jupyter-widgets/controls",
            "_model_module_version": "1.5.0",
            "_model_name": "ProgressStyleModel",
            "_view_count": null,
            "_view_module": "@jupyter-widgets/base",
            "_view_module_version": "1.2.0",
            "_view_name": "StyleView",
            "bar_color": null,
            "description_width": ""
          }
        },
        "8df9d8baf5e34321abc24e90a1150b3e": {
          "model_module": "@jupyter-widgets/base",
          "model_name": "LayoutModel",
          "model_module_version": "1.2.0",
          "state": {
            "_model_module": "@jupyter-widgets/base",
            "_model_module_version": "1.2.0",
            "_model_name": "LayoutModel",
            "_view_count": null,
            "_view_module": "@jupyter-widgets/base",
            "_view_module_version": "1.2.0",
            "_view_name": "LayoutView",
            "align_content": null,
            "align_items": null,
            "align_self": null,
            "border": null,
            "bottom": null,
            "display": null,
            "flex": null,
            "flex_flow": null,
            "grid_area": null,
            "grid_auto_columns": null,
            "grid_auto_flow": null,
            "grid_auto_rows": null,
            "grid_column": null,
            "grid_gap": null,
            "grid_row": null,
            "grid_template_areas": null,
            "grid_template_columns": null,
            "grid_template_rows": null,
            "height": null,
            "justify_content": null,
            "justify_items": null,
            "left": null,
            "margin": null,
            "max_height": null,
            "max_width": null,
            "min_height": null,
            "min_width": null,
            "object_fit": null,
            "object_position": null,
            "order": null,
            "overflow": null,
            "overflow_x": null,
            "overflow_y": null,
            "padding": null,
            "right": null,
            "top": null,
            "visibility": null,
            "width": null
          }
        },
        "0c63391b355241d080ae0560e6482324": {
          "model_module": "@jupyter-widgets/controls",
          "model_name": "DescriptionStyleModel",
          "model_module_version": "1.5.0",
          "state": {
            "_model_module": "@jupyter-widgets/controls",
            "_model_module_version": "1.5.0",
            "_model_name": "DescriptionStyleModel",
            "_view_count": null,
            "_view_module": "@jupyter-widgets/base",
            "_view_module_version": "1.2.0",
            "_view_name": "StyleView",
            "description_width": ""
          }
        },
        "ae5b2b56f7e24af6b3927b3c9f05d615": {
          "model_module": "@jupyter-widgets/controls",
          "model_name": "HBoxModel",
          "model_module_version": "1.5.0",
          "state": {
            "_dom_classes": [],
            "_model_module": "@jupyter-widgets/controls",
            "_model_module_version": "1.5.0",
            "_model_name": "HBoxModel",
            "_view_count": null,
            "_view_module": "@jupyter-widgets/controls",
            "_view_module_version": "1.5.0",
            "_view_name": "HBoxView",
            "box_style": "",
            "children": [
              "IPY_MODEL_ff5c38708dde4462b8919ab70b9d688b",
              "IPY_MODEL_fcbbc0453579479fb99783c72311e202",
              "IPY_MODEL_5116e796cee545848327b2bd8626f799"
            ],
            "layout": "IPY_MODEL_5e06321820084c0386012ad4e12b3564"
          }
        },
        "ff5c38708dde4462b8919ab70b9d688b": {
          "model_module": "@jupyter-widgets/controls",
          "model_name": "HTMLModel",
          "model_module_version": "1.5.0",
          "state": {
            "_dom_classes": [],
            "_model_module": "@jupyter-widgets/controls",
            "_model_module_version": "1.5.0",
            "_model_name": "HTMLModel",
            "_view_count": null,
            "_view_module": "@jupyter-widgets/controls",
            "_view_module_version": "1.5.0",
            "_view_name": "HTMLView",
            "description": "",
            "description_tooltip": null,
            "layout": "IPY_MODEL_ec0841e4356d427e9de99f7a2d6d0aa1",
            "placeholder": "​",
            "style": "IPY_MODEL_49964f564df24251afce99debb5ce328",
            "value": "100%"
          }
        },
        "fcbbc0453579479fb99783c72311e202": {
          "model_module": "@jupyter-widgets/controls",
          "model_name": "FloatProgressModel",
          "model_module_version": "1.5.0",
          "state": {
            "_dom_classes": [],
            "_model_module": "@jupyter-widgets/controls",
            "_model_module_version": "1.5.0",
            "_model_name": "FloatProgressModel",
            "_view_count": null,
            "_view_module": "@jupyter-widgets/controls",
            "_view_module_version": "1.5.0",
            "_view_name": "ProgressView",
            "bar_style": "success",
            "description": "",
            "description_tooltip": null,
            "layout": "IPY_MODEL_9adc0c1f7018408689605666dae40e6c",
            "max": 2109,
            "min": 0,
            "orientation": "horizontal",
            "style": "IPY_MODEL_e91d0fc1a2c9448e9af1ae851ab7935b",
            "value": 2109
          }
        },
        "5116e796cee545848327b2bd8626f799": {
          "model_module": "@jupyter-widgets/controls",
          "model_name": "HTMLModel",
          "model_module_version": "1.5.0",
          "state": {
            "_dom_classes": [],
            "_model_module": "@jupyter-widgets/controls",
            "_model_module_version": "1.5.0",
            "_model_name": "HTMLModel",
            "_view_count": null,
            "_view_module": "@jupyter-widgets/controls",
            "_view_module_version": "1.5.0",
            "_view_name": "HTMLView",
            "description": "",
            "description_tooltip": null,
            "layout": "IPY_MODEL_066b431173f84a20bb9e0ea0d2beda91",
            "placeholder": "​",
            "style": "IPY_MODEL_d88f5ebb68dd4d60b7529ed1890f4b13",
            "value": " 2109/2109 [00:01&lt;00:00, 1958.64it/s]"
          }
        },
        "5e06321820084c0386012ad4e12b3564": {
          "model_module": "@jupyter-widgets/base",
          "model_name": "LayoutModel",
          "model_module_version": "1.2.0",
          "state": {
            "_model_module": "@jupyter-widgets/base",
            "_model_module_version": "1.2.0",
            "_model_name": "LayoutModel",
            "_view_count": null,
            "_view_module": "@jupyter-widgets/base",
            "_view_module_version": "1.2.0",
            "_view_name": "LayoutView",
            "align_content": null,
            "align_items": null,
            "align_self": null,
            "border": null,
            "bottom": null,
            "display": null,
            "flex": null,
            "flex_flow": null,
            "grid_area": null,
            "grid_auto_columns": null,
            "grid_auto_flow": null,
            "grid_auto_rows": null,
            "grid_column": null,
            "grid_gap": null,
            "grid_row": null,
            "grid_template_areas": null,
            "grid_template_columns": null,
            "grid_template_rows": null,
            "height": null,
            "justify_content": null,
            "justify_items": null,
            "left": null,
            "margin": null,
            "max_height": null,
            "max_width": null,
            "min_height": null,
            "min_width": null,
            "object_fit": null,
            "object_position": null,
            "order": null,
            "overflow": null,
            "overflow_x": null,
            "overflow_y": null,
            "padding": null,
            "right": null,
            "top": null,
            "visibility": null,
            "width": null
          }
        },
        "ec0841e4356d427e9de99f7a2d6d0aa1": {
          "model_module": "@jupyter-widgets/base",
          "model_name": "LayoutModel",
          "model_module_version": "1.2.0",
          "state": {
            "_model_module": "@jupyter-widgets/base",
            "_model_module_version": "1.2.0",
            "_model_name": "LayoutModel",
            "_view_count": null,
            "_view_module": "@jupyter-widgets/base",
            "_view_module_version": "1.2.0",
            "_view_name": "LayoutView",
            "align_content": null,
            "align_items": null,
            "align_self": null,
            "border": null,
            "bottom": null,
            "display": null,
            "flex": null,
            "flex_flow": null,
            "grid_area": null,
            "grid_auto_columns": null,
            "grid_auto_flow": null,
            "grid_auto_rows": null,
            "grid_column": null,
            "grid_gap": null,
            "grid_row": null,
            "grid_template_areas": null,
            "grid_template_columns": null,
            "grid_template_rows": null,
            "height": null,
            "justify_content": null,
            "justify_items": null,
            "left": null,
            "margin": null,
            "max_height": null,
            "max_width": null,
            "min_height": null,
            "min_width": null,
            "object_fit": null,
            "object_position": null,
            "order": null,
            "overflow": null,
            "overflow_x": null,
            "overflow_y": null,
            "padding": null,
            "right": null,
            "top": null,
            "visibility": null,
            "width": null
          }
        },
        "49964f564df24251afce99debb5ce328": {
          "model_module": "@jupyter-widgets/controls",
          "model_name": "DescriptionStyleModel",
          "model_module_version": "1.5.0",
          "state": {
            "_model_module": "@jupyter-widgets/controls",
            "_model_module_version": "1.5.0",
            "_model_name": "DescriptionStyleModel",
            "_view_count": null,
            "_view_module": "@jupyter-widgets/base",
            "_view_module_version": "1.2.0",
            "_view_name": "StyleView",
            "description_width": ""
          }
        },
        "9adc0c1f7018408689605666dae40e6c": {
          "model_module": "@jupyter-widgets/base",
          "model_name": "LayoutModel",
          "model_module_version": "1.2.0",
          "state": {
            "_model_module": "@jupyter-widgets/base",
            "_model_module_version": "1.2.0",
            "_model_name": "LayoutModel",
            "_view_count": null,
            "_view_module": "@jupyter-widgets/base",
            "_view_module_version": "1.2.0",
            "_view_name": "LayoutView",
            "align_content": null,
            "align_items": null,
            "align_self": null,
            "border": null,
            "bottom": null,
            "display": null,
            "flex": null,
            "flex_flow": null,
            "grid_area": null,
            "grid_auto_columns": null,
            "grid_auto_flow": null,
            "grid_auto_rows": null,
            "grid_column": null,
            "grid_gap": null,
            "grid_row": null,
            "grid_template_areas": null,
            "grid_template_columns": null,
            "grid_template_rows": null,
            "height": null,
            "justify_content": null,
            "justify_items": null,
            "left": null,
            "margin": null,
            "max_height": null,
            "max_width": null,
            "min_height": null,
            "min_width": null,
            "object_fit": null,
            "object_position": null,
            "order": null,
            "overflow": null,
            "overflow_x": null,
            "overflow_y": null,
            "padding": null,
            "right": null,
            "top": null,
            "visibility": null,
            "width": null
          }
        },
        "e91d0fc1a2c9448e9af1ae851ab7935b": {
          "model_module": "@jupyter-widgets/controls",
          "model_name": "ProgressStyleModel",
          "model_module_version": "1.5.0",
          "state": {
            "_model_module": "@jupyter-widgets/controls",
            "_model_module_version": "1.5.0",
            "_model_name": "ProgressStyleModel",
            "_view_count": null,
            "_view_module": "@jupyter-widgets/base",
            "_view_module_version": "1.2.0",
            "_view_name": "StyleView",
            "bar_color": null,
            "description_width": ""
          }
        },
        "066b431173f84a20bb9e0ea0d2beda91": {
          "model_module": "@jupyter-widgets/base",
          "model_name": "LayoutModel",
          "model_module_version": "1.2.0",
          "state": {
            "_model_module": "@jupyter-widgets/base",
            "_model_module_version": "1.2.0",
            "_model_name": "LayoutModel",
            "_view_count": null,
            "_view_module": "@jupyter-widgets/base",
            "_view_module_version": "1.2.0",
            "_view_name": "LayoutView",
            "align_content": null,
            "align_items": null,
            "align_self": null,
            "border": null,
            "bottom": null,
            "display": null,
            "flex": null,
            "flex_flow": null,
            "grid_area": null,
            "grid_auto_columns": null,
            "grid_auto_flow": null,
            "grid_auto_rows": null,
            "grid_column": null,
            "grid_gap": null,
            "grid_row": null,
            "grid_template_areas": null,
            "grid_template_columns": null,
            "grid_template_rows": null,
            "height": null,
            "justify_content": null,
            "justify_items": null,
            "left": null,
            "margin": null,
            "max_height": null,
            "max_width": null,
            "min_height": null,
            "min_width": null,
            "object_fit": null,
            "object_position": null,
            "order": null,
            "overflow": null,
            "overflow_x": null,
            "overflow_y": null,
            "padding": null,
            "right": null,
            "top": null,
            "visibility": null,
            "width": null
          }
        },
        "d88f5ebb68dd4d60b7529ed1890f4b13": {
          "model_module": "@jupyter-widgets/controls",
          "model_name": "DescriptionStyleModel",
          "model_module_version": "1.5.0",
          "state": {
            "_model_module": "@jupyter-widgets/controls",
            "_model_module_version": "1.5.0",
            "_model_name": "DescriptionStyleModel",
            "_view_count": null,
            "_view_module": "@jupyter-widgets/base",
            "_view_module_version": "1.2.0",
            "_view_name": "StyleView",
            "description_width": ""
          }
        }
      }
    }
  },
  "nbformat": 4,
  "nbformat_minor": 0
}